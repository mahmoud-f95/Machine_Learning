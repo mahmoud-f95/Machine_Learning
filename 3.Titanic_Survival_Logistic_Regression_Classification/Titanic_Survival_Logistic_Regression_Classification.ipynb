{
  "nbformat": 4,
  "nbformat_minor": 0,
  "metadata": {
    "colab": {
      "name": "Titanic Survival-Logistic Regression Classification.ipynb",
      "provenance": [],
      "collapsed_sections": []
    },
    "kernelspec": {
      "name": "python3",
      "display_name": "Python 3"
    },
    "language_info": {
      "name": "python"
    }
  },
  "cells": [
    {
      "cell_type": "markdown",
      "source": [
        "# Titanic Survival-Logistic Regression Classification"
      ],
      "metadata": {
        "id": "Ckldos3b4RtA"
      }
    },
    {
      "cell_type": "markdown",
      "source": [
        "**Historical Overview:**\n",
        "\n",
        "On April 15, 1912, during her maiden voyage, the widely considered “unsinkable” RMS Titanic sank after colliding with an iceberg. Unfortunately, there weren’t enough lifeboats for everyone onboard, resulting in the death of 1502 out of 2224 passengers and crew.\n",
        "\n",
        "![images.jpg](data:image/jpeg;base64,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)"
      ],
      "metadata": {
        "id": "zRx6ND4e4WlO"
      }
    },
    {
      "cell_type": "markdown",
      "source": [
        "**Goal:**\n",
        "\n",
        "we neeedto build a predictive model that answers the questions: what sorts of people were more likely to survive? where some features and charactaristics contributed in people survival?\n",
        "\n",
        "**Data:** \n",
        "\n",
        "using passenger data:  name, age, gendersocio-economic class,\n",
        "parents/children/sibling etc.\n",
        "\n",
        "the link to the dataset on kaggle:\n",
        "\n",
        "https://www.kaggle.com/competitions/titanic/data?select=test.csv\n"
      ],
      "metadata": {
        "id": "FnQFw7F25s4l"
      }
    },
    {
      "cell_type": "markdown",
      "source": [
        "### Importing Libraries"
      ],
      "metadata": {
        "id": "mqb75rZv8PGw"
      }
    },
    {
      "cell_type": "code",
      "source": [
        "import pandas as pd\n",
        "import numpy as np\n",
        "np.set_printoptions(precision=2)\n",
        "import matplotlib.pyplot as plt \n",
        "import seaborn as sns\n",
        "from sklearn.preprocessing import StandardScaler\n",
        "from sklearn.linear_model import LogisticRegression\n",
        "from sklearn import metrics"
      ],
      "metadata": {
        "id": "a_to91kW8Vxf"
      },
      "execution_count": 17,
      "outputs": []
    },
    {
      "cell_type": "markdown",
      "source": [
        "### Load Data"
      ],
      "metadata": {
        "id": "7A5gVeo28nEa"
      }
    },
    {
      "cell_type": "code",
      "source": [
        "! chmod 600 ~/.kaggle/kaggle.json"
      ],
      "metadata": {
        "id": "Lm0X8CgV-Do3"
      },
      "execution_count": 18,
      "outputs": []
    },
    {
      "cell_type": "code",
      "source": [
        "!kaggle competitions download -c titanic"
      ],
      "metadata": {
        "colab": {
          "base_uri": "https://localhost:8080/"
        },
        "id": "ZFNzjRyr-HRX",
        "outputId": "ec644840-daa9-4269-93ea-6eaf7c62321e"
      },
      "execution_count": 19,
      "outputs": [
        {
          "output_type": "stream",
          "name": "stdout",
          "text": [
            "Downloading titanic.zip to /content\n",
            "\r  0% 0.00/34.1k [00:00<?, ?B/s]\n",
            "\r100% 34.1k/34.1k [00:00<00:00, 19.8MB/s]\n"
          ]
        }
      ]
    },
    {
      "cell_type": "code",
      "source": [
        "! mkdir titanic_data\n",
        "! unzip titanic.zip -d titanic_data"
      ],
      "metadata": {
        "colab": {
          "base_uri": "https://localhost:8080/"
        },
        "id": "4tvIvPx7-YTM",
        "outputId": "d278f135-4694-445d-db2d-e7aa2ab8ade1"
      },
      "execution_count": 20,
      "outputs": [
        {
          "output_type": "stream",
          "name": "stdout",
          "text": [
            "Archive:  titanic.zip\n",
            "  inflating: titanic_data/gender_submission.csv  \n",
            "  inflating: titanic_data/test.csv   \n",
            "  inflating: titanic_data/train.csv  \n"
          ]
        }
      ]
    },
    {
      "cell_type": "code",
      "source": [
        "training_data=pd.read_csv(\"/content/titanic_data/train.csv\")\n",
        "training_data.head(5)"
      ],
      "metadata": {
        "colab": {
          "base_uri": "https://localhost:8080/",
          "height": 206
        },
        "id": "ntwkX7nd-v5y",
        "outputId": "d20ff6bf-5168-4bb7-a50d-0cc29433da60"
      },
      "execution_count": 21,
      "outputs": [
        {
          "output_type": "execute_result",
          "data": {
            "text/plain": [
              "   PassengerId  Survived  Pclass  \\\n",
              "0            1         0       3   \n",
              "1            2         1       1   \n",
              "2            3         1       3   \n",
              "3            4         1       1   \n",
              "4            5         0       3   \n",
              "\n",
              "                                                Name     Sex   Age  SibSp  \\\n",
              "0                            Braund, Mr. Owen Harris    male  22.0      1   \n",
              "1  Cumings, Mrs. John Bradley (Florence Briggs Th...  female  38.0      1   \n",
              "2                             Heikkinen, Miss. Laina  female  26.0      0   \n",
              "3       Futrelle, Mrs. Jacques Heath (Lily May Peel)  female  35.0      1   \n",
              "4                           Allen, Mr. William Henry    male  35.0      0   \n",
              "\n",
              "   Parch            Ticket     Fare Cabin Embarked  \n",
              "0      0         A/5 21171   7.2500   NaN        S  \n",
              "1      0          PC 17599  71.2833   C85        C  \n",
              "2      0  STON/O2. 3101282   7.9250   NaN        S  \n",
              "3      0            113803  53.1000  C123        S  \n",
              "4      0            373450   8.0500   NaN        S  "
            ],
            "text/html": [
              "\n",
              "  <div id=\"df-048a3745-8e99-4e38-9a23-f7b01e5ee3d7\">\n",
              "    <div class=\"colab-df-container\">\n",
              "      <div>\n",
              "<style scoped>\n",
              "    .dataframe tbody tr th:only-of-type {\n",
              "        vertical-align: middle;\n",
              "    }\n",
              "\n",
              "    .dataframe tbody tr th {\n",
              "        vertical-align: top;\n",
              "    }\n",
              "\n",
              "    .dataframe thead th {\n",
              "        text-align: right;\n",
              "    }\n",
              "</style>\n",
              "<table border=\"1\" class=\"dataframe\">\n",
              "  <thead>\n",
              "    <tr style=\"text-align: right;\">\n",
              "      <th></th>\n",
              "      <th>PassengerId</th>\n",
              "      <th>Survived</th>\n",
              "      <th>Pclass</th>\n",
              "      <th>Name</th>\n",
              "      <th>Sex</th>\n",
              "      <th>Age</th>\n",
              "      <th>SibSp</th>\n",
              "      <th>Parch</th>\n",
              "      <th>Ticket</th>\n",
              "      <th>Fare</th>\n",
              "      <th>Cabin</th>\n",
              "      <th>Embarked</th>\n",
              "    </tr>\n",
              "  </thead>\n",
              "  <tbody>\n",
              "    <tr>\n",
              "      <th>0</th>\n",
              "      <td>1</td>\n",
              "      <td>0</td>\n",
              "      <td>3</td>\n",
              "      <td>Braund, Mr. Owen Harris</td>\n",
              "      <td>male</td>\n",
              "      <td>22.0</td>\n",
              "      <td>1</td>\n",
              "      <td>0</td>\n",
              "      <td>A/5 21171</td>\n",
              "      <td>7.2500</td>\n",
              "      <td>NaN</td>\n",
              "      <td>S</td>\n",
              "    </tr>\n",
              "    <tr>\n",
              "      <th>1</th>\n",
              "      <td>2</td>\n",
              "      <td>1</td>\n",
              "      <td>1</td>\n",
              "      <td>Cumings, Mrs. John Bradley (Florence Briggs Th...</td>\n",
              "      <td>female</td>\n",
              "      <td>38.0</td>\n",
              "      <td>1</td>\n",
              "      <td>0</td>\n",
              "      <td>PC 17599</td>\n",
              "      <td>71.2833</td>\n",
              "      <td>C85</td>\n",
              "      <td>C</td>\n",
              "    </tr>\n",
              "    <tr>\n",
              "      <th>2</th>\n",
              "      <td>3</td>\n",
              "      <td>1</td>\n",
              "      <td>3</td>\n",
              "      <td>Heikkinen, Miss. Laina</td>\n",
              "      <td>female</td>\n",
              "      <td>26.0</td>\n",
              "      <td>0</td>\n",
              "      <td>0</td>\n",
              "      <td>STON/O2. 3101282</td>\n",
              "      <td>7.9250</td>\n",
              "      <td>NaN</td>\n",
              "      <td>S</td>\n",
              "    </tr>\n",
              "    <tr>\n",
              "      <th>3</th>\n",
              "      <td>4</td>\n",
              "      <td>1</td>\n",
              "      <td>1</td>\n",
              "      <td>Futrelle, Mrs. Jacques Heath (Lily May Peel)</td>\n",
              "      <td>female</td>\n",
              "      <td>35.0</td>\n",
              "      <td>1</td>\n",
              "      <td>0</td>\n",
              "      <td>113803</td>\n",
              "      <td>53.1000</td>\n",
              "      <td>C123</td>\n",
              "      <td>S</td>\n",
              "    </tr>\n",
              "    <tr>\n",
              "      <th>4</th>\n",
              "      <td>5</td>\n",
              "      <td>0</td>\n",
              "      <td>3</td>\n",
              "      <td>Allen, Mr. William Henry</td>\n",
              "      <td>male</td>\n",
              "      <td>35.0</td>\n",
              "      <td>0</td>\n",
              "      <td>0</td>\n",
              "      <td>373450</td>\n",
              "      <td>8.0500</td>\n",
              "      <td>NaN</td>\n",
              "      <td>S</td>\n",
              "    </tr>\n",
              "  </tbody>\n",
              "</table>\n",
              "</div>\n",
              "      <button class=\"colab-df-convert\" onclick=\"convertToInteractive('df-048a3745-8e99-4e38-9a23-f7b01e5ee3d7')\"\n",
              "              title=\"Convert this dataframe to an interactive table.\"\n",
              "              style=\"display:none;\">\n",
              "        \n",
              "  <svg xmlns=\"http://www.w3.org/2000/svg\" height=\"24px\"viewBox=\"0 0 24 24\"\n",
              "       width=\"24px\">\n",
              "    <path d=\"M0 0h24v24H0V0z\" fill=\"none\"/>\n",
              "    <path d=\"M18.56 5.44l.94 2.06.94-2.06 2.06-.94-2.06-.94-.94-2.06-.94 2.06-2.06.94zm-11 1L8.5 8.5l.94-2.06 2.06-.94-2.06-.94L8.5 2.5l-.94 2.06-2.06.94zm10 10l.94 2.06.94-2.06 2.06-.94-2.06-.94-.94-2.06-.94 2.06-2.06.94z\"/><path d=\"M17.41 7.96l-1.37-1.37c-.4-.4-.92-.59-1.43-.59-.52 0-1.04.2-1.43.59L10.3 9.45l-7.72 7.72c-.78.78-.78 2.05 0 2.83L4 21.41c.39.39.9.59 1.41.59.51 0 1.02-.2 1.41-.59l7.78-7.78 2.81-2.81c.8-.78.8-2.07 0-2.86zM5.41 20L4 18.59l7.72-7.72 1.47 1.35L5.41 20z\"/>\n",
              "  </svg>\n",
              "      </button>\n",
              "      \n",
              "  <style>\n",
              "    .colab-df-container {\n",
              "      display:flex;\n",
              "      flex-wrap:wrap;\n",
              "      gap: 12px;\n",
              "    }\n",
              "\n",
              "    .colab-df-convert {\n",
              "      background-color: #E8F0FE;\n",
              "      border: none;\n",
              "      border-radius: 50%;\n",
              "      cursor: pointer;\n",
              "      display: none;\n",
              "      fill: #1967D2;\n",
              "      height: 32px;\n",
              "      padding: 0 0 0 0;\n",
              "      width: 32px;\n",
              "    }\n",
              "\n",
              "    .colab-df-convert:hover {\n",
              "      background-color: #E2EBFA;\n",
              "      box-shadow: 0px 1px 2px rgba(60, 64, 67, 0.3), 0px 1px 3px 1px rgba(60, 64, 67, 0.15);\n",
              "      fill: #174EA6;\n",
              "    }\n",
              "\n",
              "    [theme=dark] .colab-df-convert {\n",
              "      background-color: #3B4455;\n",
              "      fill: #D2E3FC;\n",
              "    }\n",
              "\n",
              "    [theme=dark] .colab-df-convert:hover {\n",
              "      background-color: #434B5C;\n",
              "      box-shadow: 0px 1px 3px 1px rgba(0, 0, 0, 0.15);\n",
              "      filter: drop-shadow(0px 1px 2px rgba(0, 0, 0, 0.3));\n",
              "      fill: #FFFFFF;\n",
              "    }\n",
              "  </style>\n",
              "\n",
              "      <script>\n",
              "        const buttonEl =\n",
              "          document.querySelector('#df-048a3745-8e99-4e38-9a23-f7b01e5ee3d7 button.colab-df-convert');\n",
              "        buttonEl.style.display =\n",
              "          google.colab.kernel.accessAllowed ? 'block' : 'none';\n",
              "\n",
              "        async function convertToInteractive(key) {\n",
              "          const element = document.querySelector('#df-048a3745-8e99-4e38-9a23-f7b01e5ee3d7');\n",
              "          const dataTable =\n",
              "            await google.colab.kernel.invokeFunction('convertToInteractive',\n",
              "                                                     [key], {});\n",
              "          if (!dataTable) return;\n",
              "\n",
              "          const docLinkHtml = 'Like what you see? Visit the ' +\n",
              "            '<a target=\"_blank\" href=https://colab.research.google.com/notebooks/data_table.ipynb>data table notebook</a>'\n",
              "            + ' to learn more about interactive tables.';\n",
              "          element.innerHTML = '';\n",
              "          dataTable['output_type'] = 'display_data';\n",
              "          await google.colab.output.renderOutput(dataTable, element);\n",
              "          const docLink = document.createElement('div');\n",
              "          docLink.innerHTML = docLinkHtml;\n",
              "          element.appendChild(docLink);\n",
              "        }\n",
              "      </script>\n",
              "    </div>\n",
              "  </div>\n",
              "  "
            ]
          },
          "metadata": {},
          "execution_count": 21
        }
      ]
    },
    {
      "cell_type": "markdown",
      "source": [
        "### EDA"
      ],
      "metadata": {
        "id": "K7oCx_-w_QTG"
      }
    },
    {
      "cell_type": "code",
      "source": [
        "training_data.info()"
      ],
      "metadata": {
        "colab": {
          "base_uri": "https://localhost:8080/"
        },
        "id": "OYMAeBkc_Sn7",
        "outputId": "91271995-cc64-48ed-a5aa-d65e0d10ad92"
      },
      "execution_count": 22,
      "outputs": [
        {
          "output_type": "stream",
          "name": "stdout",
          "text": [
            "<class 'pandas.core.frame.DataFrame'>\n",
            "RangeIndex: 891 entries, 0 to 890\n",
            "Data columns (total 12 columns):\n",
            " #   Column       Non-Null Count  Dtype  \n",
            "---  ------       --------------  -----  \n",
            " 0   PassengerId  891 non-null    int64  \n",
            " 1   Survived     891 non-null    int64  \n",
            " 2   Pclass       891 non-null    int64  \n",
            " 3   Name         891 non-null    object \n",
            " 4   Sex          891 non-null    object \n",
            " 5   Age          714 non-null    float64\n",
            " 6   SibSp        891 non-null    int64  \n",
            " 7   Parch        891 non-null    int64  \n",
            " 8   Ticket       891 non-null    object \n",
            " 9   Fare         891 non-null    float64\n",
            " 10  Cabin        204 non-null    object \n",
            " 11  Embarked     889 non-null    object \n",
            "dtypes: float64(2), int64(5), object(5)\n",
            "memory usage: 83.7+ KB\n"
          ]
        }
      ]
    },
    {
      "cell_type": "code",
      "source": [
        "training_data.describe()"
      ],
      "metadata": {
        "colab": {
          "base_uri": "https://localhost:8080/",
          "height": 300
        },
        "id": "qTkcohx_CQJt",
        "outputId": "ac9835b0-2039-4731-aba9-3ee64e7553af"
      },
      "execution_count": 23,
      "outputs": [
        {
          "output_type": "execute_result",
          "data": {
            "text/plain": [
              "       PassengerId    Survived      Pclass         Age       SibSp  \\\n",
              "count   891.000000  891.000000  891.000000  714.000000  891.000000   \n",
              "mean    446.000000    0.383838    2.308642   29.699118    0.523008   \n",
              "std     257.353842    0.486592    0.836071   14.526497    1.102743   \n",
              "min       1.000000    0.000000    1.000000    0.420000    0.000000   \n",
              "25%     223.500000    0.000000    2.000000   20.125000    0.000000   \n",
              "50%     446.000000    0.000000    3.000000   28.000000    0.000000   \n",
              "75%     668.500000    1.000000    3.000000   38.000000    1.000000   \n",
              "max     891.000000    1.000000    3.000000   80.000000    8.000000   \n",
              "\n",
              "            Parch        Fare  \n",
              "count  891.000000  891.000000  \n",
              "mean     0.381594   32.204208  \n",
              "std      0.806057   49.693429  \n",
              "min      0.000000    0.000000  \n",
              "25%      0.000000    7.910400  \n",
              "50%      0.000000   14.454200  \n",
              "75%      0.000000   31.000000  \n",
              "max      6.000000  512.329200  "
            ],
            "text/html": [
              "\n",
              "  <div id=\"df-14850250-b2c3-4d4f-a662-3f99b1e70b68\">\n",
              "    <div class=\"colab-df-container\">\n",
              "      <div>\n",
              "<style scoped>\n",
              "    .dataframe tbody tr th:only-of-type {\n",
              "        vertical-align: middle;\n",
              "    }\n",
              "\n",
              "    .dataframe tbody tr th {\n",
              "        vertical-align: top;\n",
              "    }\n",
              "\n",
              "    .dataframe thead th {\n",
              "        text-align: right;\n",
              "    }\n",
              "</style>\n",
              "<table border=\"1\" class=\"dataframe\">\n",
              "  <thead>\n",
              "    <tr style=\"text-align: right;\">\n",
              "      <th></th>\n",
              "      <th>PassengerId</th>\n",
              "      <th>Survived</th>\n",
              "      <th>Pclass</th>\n",
              "      <th>Age</th>\n",
              "      <th>SibSp</th>\n",
              "      <th>Parch</th>\n",
              "      <th>Fare</th>\n",
              "    </tr>\n",
              "  </thead>\n",
              "  <tbody>\n",
              "    <tr>\n",
              "      <th>count</th>\n",
              "      <td>891.000000</td>\n",
              "      <td>891.000000</td>\n",
              "      <td>891.000000</td>\n",
              "      <td>714.000000</td>\n",
              "      <td>891.000000</td>\n",
              "      <td>891.000000</td>\n",
              "      <td>891.000000</td>\n",
              "    </tr>\n",
              "    <tr>\n",
              "      <th>mean</th>\n",
              "      <td>446.000000</td>\n",
              "      <td>0.383838</td>\n",
              "      <td>2.308642</td>\n",
              "      <td>29.699118</td>\n",
              "      <td>0.523008</td>\n",
              "      <td>0.381594</td>\n",
              "      <td>32.204208</td>\n",
              "    </tr>\n",
              "    <tr>\n",
              "      <th>std</th>\n",
              "      <td>257.353842</td>\n",
              "      <td>0.486592</td>\n",
              "      <td>0.836071</td>\n",
              "      <td>14.526497</td>\n",
              "      <td>1.102743</td>\n",
              "      <td>0.806057</td>\n",
              "      <td>49.693429</td>\n",
              "    </tr>\n",
              "    <tr>\n",
              "      <th>min</th>\n",
              "      <td>1.000000</td>\n",
              "      <td>0.000000</td>\n",
              "      <td>1.000000</td>\n",
              "      <td>0.420000</td>\n",
              "      <td>0.000000</td>\n",
              "      <td>0.000000</td>\n",
              "      <td>0.000000</td>\n",
              "    </tr>\n",
              "    <tr>\n",
              "      <th>25%</th>\n",
              "      <td>223.500000</td>\n",
              "      <td>0.000000</td>\n",
              "      <td>2.000000</td>\n",
              "      <td>20.125000</td>\n",
              "      <td>0.000000</td>\n",
              "      <td>0.000000</td>\n",
              "      <td>7.910400</td>\n",
              "    </tr>\n",
              "    <tr>\n",
              "      <th>50%</th>\n",
              "      <td>446.000000</td>\n",
              "      <td>0.000000</td>\n",
              "      <td>3.000000</td>\n",
              "      <td>28.000000</td>\n",
              "      <td>0.000000</td>\n",
              "      <td>0.000000</td>\n",
              "      <td>14.454200</td>\n",
              "    </tr>\n",
              "    <tr>\n",
              "      <th>75%</th>\n",
              "      <td>668.500000</td>\n",
              "      <td>1.000000</td>\n",
              "      <td>3.000000</td>\n",
              "      <td>38.000000</td>\n",
              "      <td>1.000000</td>\n",
              "      <td>0.000000</td>\n",
              "      <td>31.000000</td>\n",
              "    </tr>\n",
              "    <tr>\n",
              "      <th>max</th>\n",
              "      <td>891.000000</td>\n",
              "      <td>1.000000</td>\n",
              "      <td>3.000000</td>\n",
              "      <td>80.000000</td>\n",
              "      <td>8.000000</td>\n",
              "      <td>6.000000</td>\n",
              "      <td>512.329200</td>\n",
              "    </tr>\n",
              "  </tbody>\n",
              "</table>\n",
              "</div>\n",
              "      <button class=\"colab-df-convert\" onclick=\"convertToInteractive('df-14850250-b2c3-4d4f-a662-3f99b1e70b68')\"\n",
              "              title=\"Convert this dataframe to an interactive table.\"\n",
              "              style=\"display:none;\">\n",
              "        \n",
              "  <svg xmlns=\"http://www.w3.org/2000/svg\" height=\"24px\"viewBox=\"0 0 24 24\"\n",
              "       width=\"24px\">\n",
              "    <path d=\"M0 0h24v24H0V0z\" fill=\"none\"/>\n",
              "    <path d=\"M18.56 5.44l.94 2.06.94-2.06 2.06-.94-2.06-.94-.94-2.06-.94 2.06-2.06.94zm-11 1L8.5 8.5l.94-2.06 2.06-.94-2.06-.94L8.5 2.5l-.94 2.06-2.06.94zm10 10l.94 2.06.94-2.06 2.06-.94-2.06-.94-.94-2.06-.94 2.06-2.06.94z\"/><path d=\"M17.41 7.96l-1.37-1.37c-.4-.4-.92-.59-1.43-.59-.52 0-1.04.2-1.43.59L10.3 9.45l-7.72 7.72c-.78.78-.78 2.05 0 2.83L4 21.41c.39.39.9.59 1.41.59.51 0 1.02-.2 1.41-.59l7.78-7.78 2.81-2.81c.8-.78.8-2.07 0-2.86zM5.41 20L4 18.59l7.72-7.72 1.47 1.35L5.41 20z\"/>\n",
              "  </svg>\n",
              "      </button>\n",
              "      \n",
              "  <style>\n",
              "    .colab-df-container {\n",
              "      display:flex;\n",
              "      flex-wrap:wrap;\n",
              "      gap: 12px;\n",
              "    }\n",
              "\n",
              "    .colab-df-convert {\n",
              "      background-color: #E8F0FE;\n",
              "      border: none;\n",
              "      border-radius: 50%;\n",
              "      cursor: pointer;\n",
              "      display: none;\n",
              "      fill: #1967D2;\n",
              "      height: 32px;\n",
              "      padding: 0 0 0 0;\n",
              "      width: 32px;\n",
              "    }\n",
              "\n",
              "    .colab-df-convert:hover {\n",
              "      background-color: #E2EBFA;\n",
              "      box-shadow: 0px 1px 2px rgba(60, 64, 67, 0.3), 0px 1px 3px 1px rgba(60, 64, 67, 0.15);\n",
              "      fill: #174EA6;\n",
              "    }\n",
              "\n",
              "    [theme=dark] .colab-df-convert {\n",
              "      background-color: #3B4455;\n",
              "      fill: #D2E3FC;\n",
              "    }\n",
              "\n",
              "    [theme=dark] .colab-df-convert:hover {\n",
              "      background-color: #434B5C;\n",
              "      box-shadow: 0px 1px 3px 1px rgba(0, 0, 0, 0.15);\n",
              "      filter: drop-shadow(0px 1px 2px rgba(0, 0, 0, 0.3));\n",
              "      fill: #FFFFFF;\n",
              "    }\n",
              "  </style>\n",
              "\n",
              "      <script>\n",
              "        const buttonEl =\n",
              "          document.querySelector('#df-14850250-b2c3-4d4f-a662-3f99b1e70b68 button.colab-df-convert');\n",
              "        buttonEl.style.display =\n",
              "          google.colab.kernel.accessAllowed ? 'block' : 'none';\n",
              "\n",
              "        async function convertToInteractive(key) {\n",
              "          const element = document.querySelector('#df-14850250-b2c3-4d4f-a662-3f99b1e70b68');\n",
              "          const dataTable =\n",
              "            await google.colab.kernel.invokeFunction('convertToInteractive',\n",
              "                                                     [key], {});\n",
              "          if (!dataTable) return;\n",
              "\n",
              "          const docLinkHtml = 'Like what you see? Visit the ' +\n",
              "            '<a target=\"_blank\" href=https://colab.research.google.com/notebooks/data_table.ipynb>data table notebook</a>'\n",
              "            + ' to learn more about interactive tables.';\n",
              "          element.innerHTML = '';\n",
              "          dataTable['output_type'] = 'display_data';\n",
              "          await google.colab.output.renderOutput(dataTable, element);\n",
              "          const docLink = document.createElement('div');\n",
              "          docLink.innerHTML = docLinkHtml;\n",
              "          element.appendChild(docLink);\n",
              "        }\n",
              "      </script>\n",
              "    </div>\n",
              "  </div>\n",
              "  "
            ]
          },
          "metadata": {},
          "execution_count": 23
        }
      ]
    },
    {
      "cell_type": "code",
      "source": [
        "training_data.describe(include=\"O\")"
      ],
      "metadata": {
        "colab": {
          "base_uri": "https://localhost:8080/",
          "height": 175
        },
        "id": "GQCqrky1CHHe",
        "outputId": "cad16a25-1ec2-4252-86b6-7c380053e9b3"
      },
      "execution_count": 24,
      "outputs": [
        {
          "output_type": "execute_result",
          "data": {
            "text/plain": [
              "                           Name   Sex  Ticket    Cabin Embarked\n",
              "count                       891   891     891      204      889\n",
              "unique                      891     2     681      147        3\n",
              "top     Braund, Mr. Owen Harris  male  347082  B96 B98        S\n",
              "freq                          1   577       7        4      644"
            ],
            "text/html": [
              "\n",
              "  <div id=\"df-d162076c-6d25-414e-8f72-d9314e89d6da\">\n",
              "    <div class=\"colab-df-container\">\n",
              "      <div>\n",
              "<style scoped>\n",
              "    .dataframe tbody tr th:only-of-type {\n",
              "        vertical-align: middle;\n",
              "    }\n",
              "\n",
              "    .dataframe tbody tr th {\n",
              "        vertical-align: top;\n",
              "    }\n",
              "\n",
              "    .dataframe thead th {\n",
              "        text-align: right;\n",
              "    }\n",
              "</style>\n",
              "<table border=\"1\" class=\"dataframe\">\n",
              "  <thead>\n",
              "    <tr style=\"text-align: right;\">\n",
              "      <th></th>\n",
              "      <th>Name</th>\n",
              "      <th>Sex</th>\n",
              "      <th>Ticket</th>\n",
              "      <th>Cabin</th>\n",
              "      <th>Embarked</th>\n",
              "    </tr>\n",
              "  </thead>\n",
              "  <tbody>\n",
              "    <tr>\n",
              "      <th>count</th>\n",
              "      <td>891</td>\n",
              "      <td>891</td>\n",
              "      <td>891</td>\n",
              "      <td>204</td>\n",
              "      <td>889</td>\n",
              "    </tr>\n",
              "    <tr>\n",
              "      <th>unique</th>\n",
              "      <td>891</td>\n",
              "      <td>2</td>\n",
              "      <td>681</td>\n",
              "      <td>147</td>\n",
              "      <td>3</td>\n",
              "    </tr>\n",
              "    <tr>\n",
              "      <th>top</th>\n",
              "      <td>Braund, Mr. Owen Harris</td>\n",
              "      <td>male</td>\n",
              "      <td>347082</td>\n",
              "      <td>B96 B98</td>\n",
              "      <td>S</td>\n",
              "    </tr>\n",
              "    <tr>\n",
              "      <th>freq</th>\n",
              "      <td>1</td>\n",
              "      <td>577</td>\n",
              "      <td>7</td>\n",
              "      <td>4</td>\n",
              "      <td>644</td>\n",
              "    </tr>\n",
              "  </tbody>\n",
              "</table>\n",
              "</div>\n",
              "      <button class=\"colab-df-convert\" onclick=\"convertToInteractive('df-d162076c-6d25-414e-8f72-d9314e89d6da')\"\n",
              "              title=\"Convert this dataframe to an interactive table.\"\n",
              "              style=\"display:none;\">\n",
              "        \n",
              "  <svg xmlns=\"http://www.w3.org/2000/svg\" height=\"24px\"viewBox=\"0 0 24 24\"\n",
              "       width=\"24px\">\n",
              "    <path d=\"M0 0h24v24H0V0z\" fill=\"none\"/>\n",
              "    <path d=\"M18.56 5.44l.94 2.06.94-2.06 2.06-.94-2.06-.94-.94-2.06-.94 2.06-2.06.94zm-11 1L8.5 8.5l.94-2.06 2.06-.94-2.06-.94L8.5 2.5l-.94 2.06-2.06.94zm10 10l.94 2.06.94-2.06 2.06-.94-2.06-.94-.94-2.06-.94 2.06-2.06.94z\"/><path d=\"M17.41 7.96l-1.37-1.37c-.4-.4-.92-.59-1.43-.59-.52 0-1.04.2-1.43.59L10.3 9.45l-7.72 7.72c-.78.78-.78 2.05 0 2.83L4 21.41c.39.39.9.59 1.41.59.51 0 1.02-.2 1.41-.59l7.78-7.78 2.81-2.81c.8-.78.8-2.07 0-2.86zM5.41 20L4 18.59l7.72-7.72 1.47 1.35L5.41 20z\"/>\n",
              "  </svg>\n",
              "      </button>\n",
              "      \n",
              "  <style>\n",
              "    .colab-df-container {\n",
              "      display:flex;\n",
              "      flex-wrap:wrap;\n",
              "      gap: 12px;\n",
              "    }\n",
              "\n",
              "    .colab-df-convert {\n",
              "      background-color: #E8F0FE;\n",
              "      border: none;\n",
              "      border-radius: 50%;\n",
              "      cursor: pointer;\n",
              "      display: none;\n",
              "      fill: #1967D2;\n",
              "      height: 32px;\n",
              "      padding: 0 0 0 0;\n",
              "      width: 32px;\n",
              "    }\n",
              "\n",
              "    .colab-df-convert:hover {\n",
              "      background-color: #E2EBFA;\n",
              "      box-shadow: 0px 1px 2px rgba(60, 64, 67, 0.3), 0px 1px 3px 1px rgba(60, 64, 67, 0.15);\n",
              "      fill: #174EA6;\n",
              "    }\n",
              "\n",
              "    [theme=dark] .colab-df-convert {\n",
              "      background-color: #3B4455;\n",
              "      fill: #D2E3FC;\n",
              "    }\n",
              "\n",
              "    [theme=dark] .colab-df-convert:hover {\n",
              "      background-color: #434B5C;\n",
              "      box-shadow: 0px 1px 3px 1px rgba(0, 0, 0, 0.15);\n",
              "      filter: drop-shadow(0px 1px 2px rgba(0, 0, 0, 0.3));\n",
              "      fill: #FFFFFF;\n",
              "    }\n",
              "  </style>\n",
              "\n",
              "      <script>\n",
              "        const buttonEl =\n",
              "          document.querySelector('#df-d162076c-6d25-414e-8f72-d9314e89d6da button.colab-df-convert');\n",
              "        buttonEl.style.display =\n",
              "          google.colab.kernel.accessAllowed ? 'block' : 'none';\n",
              "\n",
              "        async function convertToInteractive(key) {\n",
              "          const element = document.querySelector('#df-d162076c-6d25-414e-8f72-d9314e89d6da');\n",
              "          const dataTable =\n",
              "            await google.colab.kernel.invokeFunction('convertToInteractive',\n",
              "                                                     [key], {});\n",
              "          if (!dataTable) return;\n",
              "\n",
              "          const docLinkHtml = 'Like what you see? Visit the ' +\n",
              "            '<a target=\"_blank\" href=https://colab.research.google.com/notebooks/data_table.ipynb>data table notebook</a>'\n",
              "            + ' to learn more about interactive tables.';\n",
              "          element.innerHTML = '';\n",
              "          dataTable['output_type'] = 'display_data';\n",
              "          await google.colab.output.renderOutput(dataTable, element);\n",
              "          const docLink = document.createElement('div');\n",
              "          docLink.innerHTML = docLinkHtml;\n",
              "          element.appendChild(docLink);\n",
              "        }\n",
              "      </script>\n",
              "    </div>\n",
              "  </div>\n",
              "  "
            ]
          },
          "metadata": {},
          "execution_count": 24
        }
      ]
    },
    {
      "cell_type": "markdown",
      "source": [
        "* From the first look we can exclude the columns:\"Id\", \"Name\" they have no effect"
      ],
      "metadata": {
        "id": "_jNsiaRpCkKO"
      }
    },
    {
      "cell_type": "markdown",
      "source": [
        "* Investigating the cabin column:"
      ],
      "metadata": {
        "id": "DkfKye6JC_4q"
      }
    },
    {
      "cell_type": "code",
      "source": [
        "training_data.Cabin[training_data.Survived==1].value_counts()* 100/len(training_data)"
      ],
      "metadata": {
        "colab": {
          "base_uri": "https://localhost:8080/"
        },
        "id": "fzevFa4rDHt-",
        "outputId": "9ddfb7dc-b3e4-4cb6-85e3-680465dee0b3"
      },
      "execution_count": 25,
      "outputs": [
        {
          "output_type": "execute_result",
          "data": {
            "text/plain": [
              "B96 B98    0.448934\n",
              "E101       0.336700\n",
              "F33        0.336700\n",
              "B18        0.224467\n",
              "B20        0.224467\n",
              "             ...   \n",
              "C32        0.112233\n",
              "E34        0.112233\n",
              "C7         0.112233\n",
              "C54        0.112233\n",
              "C148       0.112233\n",
              "Name: Cabin, Length: 101, dtype: float64"
            ]
          },
          "metadata": {},
          "execution_count": 25
        }
      ]
    },
    {
      "cell_type": "code",
      "source": [
        "training_data.Cabin[training_data.Survived==0].value_counts()* 100/len(training_data)"
      ],
      "metadata": {
        "colab": {
          "base_uri": "https://localhost:8080/"
        },
        "id": "2NC6rggGF1KP",
        "outputId": "81373a4a-2cf5-46e9-ddbf-592b1a75fb94"
      },
      "execution_count": 26,
      "outputs": [
        {
          "output_type": "execute_result",
          "data": {
            "text/plain": [
              "G6             0.224467\n",
              "C22 C26        0.224467\n",
              "C23 C25 C27    0.224467\n",
              "F G73          0.224467\n",
              "D26            0.224467\n",
              "                 ...   \n",
              "C91            0.112233\n",
              "C2             0.112233\n",
              "T              0.112233\n",
              "C128           0.112233\n",
              "B51 B53 B55    0.112233\n",
              "Name: Cabin, Length: 62, dtype: float64"
            ]
          },
          "metadata": {},
          "execution_count": 26
        }
      ]
    },
    {
      "cell_type": "markdown",
      "source": [
        "There is no significance difference between the Cabin, So we will exclude it as well"
      ],
      "metadata": {
        "id": "gc0KAD3QEaQk"
      }
    },
    {
      "cell_type": "markdown",
      "source": [
        "* Investigating the Ticket column:"
      ],
      "metadata": {
        "id": "h8vsBd_0ExPf"
      }
    },
    {
      "cell_type": "code",
      "source": [
        "training_data.Ticket[training_data.Survived==1].value_counts()* 100/len(training_data)"
      ],
      "metadata": {
        "colab": {
          "base_uri": "https://localhost:8080/"
        },
        "id": "yOZ1POzFE1C_",
        "outputId": "620cd106-dccd-49b3-c208-21ffe75d06c2"
      },
      "execution_count": 27,
      "outputs": [
        {
          "output_type": "execute_result",
          "data": {
            "text/plain": [
              "1601      0.561167\n",
              "2666      0.448934\n",
              "113760    0.448934\n",
              "13502     0.336700\n",
              "347077    0.336700\n",
              "            ...   \n",
              "244367    0.112233\n",
              "234818    0.112233\n",
              "28551     0.112233\n",
              "7598      0.112233\n",
              "111369    0.112233\n",
              "Name: Ticket, Length: 260, dtype: float64"
            ]
          },
          "metadata": {},
          "execution_count": 27
        }
      ]
    },
    {
      "cell_type": "code",
      "source": [
        "training_data.Ticket[training_data.Survived==0].value_counts()* 100/len(training_data)* 100/len(training_data)"
      ],
      "metadata": {
        "colab": {
          "base_uri": "https://localhost:8080/"
        },
        "id": "NTgq9tBGGKYj",
        "outputId": "26c620c1-4699-46d6-af6a-eed773c689c3"
      },
      "execution_count": 28,
      "outputs": [
        {
          "output_type": "execute_result",
          "data": {
            "text/plain": [
              "347082           0.088174\n",
              "CA. 2343         0.088174\n",
              "347088           0.075578\n",
              "3101295          0.075578\n",
              "CA 2144          0.075578\n",
              "                   ...   \n",
              "349233           0.012596\n",
              "349236           0.012596\n",
              "SC/Paris 2163    0.012596\n",
              "349206           0.012596\n",
              "370376           0.012596\n",
              "Name: Ticket, Length: 470, dtype: float64"
            ]
          },
          "metadata": {},
          "execution_count": 28
        }
      ]
    },
    {
      "cell_type": "markdown",
      "source": [
        "There is no significance difference between the Tickets, So we will exclude it as well"
      ],
      "metadata": {
        "id": "fmw3CXDwHXQJ"
      }
    },
    {
      "cell_type": "markdown",
      "source": [
        "* Dropping the excluded columns"
      ],
      "metadata": {
        "id": "dfI_-fbgHdu2"
      }
    },
    {
      "cell_type": "code",
      "source": [
        "training_data=training_data.drop(columns=[\"PassengerId\",\"Name\",\"Cabin\",\"Ticket\"])\n",
        "training_data.head(5)"
      ],
      "metadata": {
        "colab": {
          "base_uri": "https://localhost:8080/",
          "height": 206
        },
        "id": "-4GYnGuUHlw8",
        "outputId": "5fac969a-6afc-4d0c-919d-6d30721d6558"
      },
      "execution_count": 29,
      "outputs": [
        {
          "output_type": "execute_result",
          "data": {
            "text/plain": [
              "   Survived  Pclass     Sex   Age  SibSp  Parch     Fare Embarked\n",
              "0         0       3    male  22.0      1      0   7.2500        S\n",
              "1         1       1  female  38.0      1      0  71.2833        C\n",
              "2         1       3  female  26.0      0      0   7.9250        S\n",
              "3         1       1  female  35.0      1      0  53.1000        S\n",
              "4         0       3    male  35.0      0      0   8.0500        S"
            ],
            "text/html": [
              "\n",
              "  <div id=\"df-471b73aa-55fa-422c-9a23-fb0ccf467722\">\n",
              "    <div class=\"colab-df-container\">\n",
              "      <div>\n",
              "<style scoped>\n",
              "    .dataframe tbody tr th:only-of-type {\n",
              "        vertical-align: middle;\n",
              "    }\n",
              "\n",
              "    .dataframe tbody tr th {\n",
              "        vertical-align: top;\n",
              "    }\n",
              "\n",
              "    .dataframe thead th {\n",
              "        text-align: right;\n",
              "    }\n",
              "</style>\n",
              "<table border=\"1\" class=\"dataframe\">\n",
              "  <thead>\n",
              "    <tr style=\"text-align: right;\">\n",
              "      <th></th>\n",
              "      <th>Survived</th>\n",
              "      <th>Pclass</th>\n",
              "      <th>Sex</th>\n",
              "      <th>Age</th>\n",
              "      <th>SibSp</th>\n",
              "      <th>Parch</th>\n",
              "      <th>Fare</th>\n",
              "      <th>Embarked</th>\n",
              "    </tr>\n",
              "  </thead>\n",
              "  <tbody>\n",
              "    <tr>\n",
              "      <th>0</th>\n",
              "      <td>0</td>\n",
              "      <td>3</td>\n",
              "      <td>male</td>\n",
              "      <td>22.0</td>\n",
              "      <td>1</td>\n",
              "      <td>0</td>\n",
              "      <td>7.2500</td>\n",
              "      <td>S</td>\n",
              "    </tr>\n",
              "    <tr>\n",
              "      <th>1</th>\n",
              "      <td>1</td>\n",
              "      <td>1</td>\n",
              "      <td>female</td>\n",
              "      <td>38.0</td>\n",
              "      <td>1</td>\n",
              "      <td>0</td>\n",
              "      <td>71.2833</td>\n",
              "      <td>C</td>\n",
              "    </tr>\n",
              "    <tr>\n",
              "      <th>2</th>\n",
              "      <td>1</td>\n",
              "      <td>3</td>\n",
              "      <td>female</td>\n",
              "      <td>26.0</td>\n",
              "      <td>0</td>\n",
              "      <td>0</td>\n",
              "      <td>7.9250</td>\n",
              "      <td>S</td>\n",
              "    </tr>\n",
              "    <tr>\n",
              "      <th>3</th>\n",
              "      <td>1</td>\n",
              "      <td>1</td>\n",
              "      <td>female</td>\n",
              "      <td>35.0</td>\n",
              "      <td>1</td>\n",
              "      <td>0</td>\n",
              "      <td>53.1000</td>\n",
              "      <td>S</td>\n",
              "    </tr>\n",
              "    <tr>\n",
              "      <th>4</th>\n",
              "      <td>0</td>\n",
              "      <td>3</td>\n",
              "      <td>male</td>\n",
              "      <td>35.0</td>\n",
              "      <td>0</td>\n",
              "      <td>0</td>\n",
              "      <td>8.0500</td>\n",
              "      <td>S</td>\n",
              "    </tr>\n",
              "  </tbody>\n",
              "</table>\n",
              "</div>\n",
              "      <button class=\"colab-df-convert\" onclick=\"convertToInteractive('df-471b73aa-55fa-422c-9a23-fb0ccf467722')\"\n",
              "              title=\"Convert this dataframe to an interactive table.\"\n",
              "              style=\"display:none;\">\n",
              "        \n",
              "  <svg xmlns=\"http://www.w3.org/2000/svg\" height=\"24px\"viewBox=\"0 0 24 24\"\n",
              "       width=\"24px\">\n",
              "    <path d=\"M0 0h24v24H0V0z\" fill=\"none\"/>\n",
              "    <path d=\"M18.56 5.44l.94 2.06.94-2.06 2.06-.94-2.06-.94-.94-2.06-.94 2.06-2.06.94zm-11 1L8.5 8.5l.94-2.06 2.06-.94-2.06-.94L8.5 2.5l-.94 2.06-2.06.94zm10 10l.94 2.06.94-2.06 2.06-.94-2.06-.94-.94-2.06-.94 2.06-2.06.94z\"/><path d=\"M17.41 7.96l-1.37-1.37c-.4-.4-.92-.59-1.43-.59-.52 0-1.04.2-1.43.59L10.3 9.45l-7.72 7.72c-.78.78-.78 2.05 0 2.83L4 21.41c.39.39.9.59 1.41.59.51 0 1.02-.2 1.41-.59l7.78-7.78 2.81-2.81c.8-.78.8-2.07 0-2.86zM5.41 20L4 18.59l7.72-7.72 1.47 1.35L5.41 20z\"/>\n",
              "  </svg>\n",
              "      </button>\n",
              "      \n",
              "  <style>\n",
              "    .colab-df-container {\n",
              "      display:flex;\n",
              "      flex-wrap:wrap;\n",
              "      gap: 12px;\n",
              "    }\n",
              "\n",
              "    .colab-df-convert {\n",
              "      background-color: #E8F0FE;\n",
              "      border: none;\n",
              "      border-radius: 50%;\n",
              "      cursor: pointer;\n",
              "      display: none;\n",
              "      fill: #1967D2;\n",
              "      height: 32px;\n",
              "      padding: 0 0 0 0;\n",
              "      width: 32px;\n",
              "    }\n",
              "\n",
              "    .colab-df-convert:hover {\n",
              "      background-color: #E2EBFA;\n",
              "      box-shadow: 0px 1px 2px rgba(60, 64, 67, 0.3), 0px 1px 3px 1px rgba(60, 64, 67, 0.15);\n",
              "      fill: #174EA6;\n",
              "    }\n",
              "\n",
              "    [theme=dark] .colab-df-convert {\n",
              "      background-color: #3B4455;\n",
              "      fill: #D2E3FC;\n",
              "    }\n",
              "\n",
              "    [theme=dark] .colab-df-convert:hover {\n",
              "      background-color: #434B5C;\n",
              "      box-shadow: 0px 1px 3px 1px rgba(0, 0, 0, 0.15);\n",
              "      filter: drop-shadow(0px 1px 2px rgba(0, 0, 0, 0.3));\n",
              "      fill: #FFFFFF;\n",
              "    }\n",
              "  </style>\n",
              "\n",
              "      <script>\n",
              "        const buttonEl =\n",
              "          document.querySelector('#df-471b73aa-55fa-422c-9a23-fb0ccf467722 button.colab-df-convert');\n",
              "        buttonEl.style.display =\n",
              "          google.colab.kernel.accessAllowed ? 'block' : 'none';\n",
              "\n",
              "        async function convertToInteractive(key) {\n",
              "          const element = document.querySelector('#df-471b73aa-55fa-422c-9a23-fb0ccf467722');\n",
              "          const dataTable =\n",
              "            await google.colab.kernel.invokeFunction('convertToInteractive',\n",
              "                                                     [key], {});\n",
              "          if (!dataTable) return;\n",
              "\n",
              "          const docLinkHtml = 'Like what you see? Visit the ' +\n",
              "            '<a target=\"_blank\" href=https://colab.research.google.com/notebooks/data_table.ipynb>data table notebook</a>'\n",
              "            + ' to learn more about interactive tables.';\n",
              "          element.innerHTML = '';\n",
              "          dataTable['output_type'] = 'display_data';\n",
              "          await google.colab.output.renderOutput(dataTable, element);\n",
              "          const docLink = document.createElement('div');\n",
              "          docLink.innerHTML = docLinkHtml;\n",
              "          element.appendChild(docLink);\n",
              "        }\n",
              "      </script>\n",
              "    </div>\n",
              "  </div>\n",
              "  "
            ]
          },
          "metadata": {},
          "execution_count": 29
        }
      ]
    },
    {
      "cell_type": "code",
      "source": [
        "training_data.info()"
      ],
      "metadata": {
        "colab": {
          "base_uri": "https://localhost:8080/"
        },
        "id": "oxCfsgheM0S8",
        "outputId": "defa0a40-93ec-4dec-84e8-e06888c34263"
      },
      "execution_count": 30,
      "outputs": [
        {
          "output_type": "stream",
          "name": "stdout",
          "text": [
            "<class 'pandas.core.frame.DataFrame'>\n",
            "RangeIndex: 891 entries, 0 to 890\n",
            "Data columns (total 8 columns):\n",
            " #   Column    Non-Null Count  Dtype  \n",
            "---  ------    --------------  -----  \n",
            " 0   Survived  891 non-null    int64  \n",
            " 1   Pclass    891 non-null    int64  \n",
            " 2   Sex       891 non-null    object \n",
            " 3   Age       714 non-null    float64\n",
            " 4   SibSp     891 non-null    int64  \n",
            " 5   Parch     891 non-null    int64  \n",
            " 6   Fare      891 non-null    float64\n",
            " 7   Embarked  889 non-null    object \n",
            "dtypes: float64(2), int64(4), object(2)\n",
            "memory usage: 55.8+ KB\n"
          ]
        }
      ]
    },
    {
      "cell_type": "markdown",
      "source": [
        "* Handling Missing Values"
      ],
      "metadata": {
        "id": "paCLYb8uM8sJ"
      }
    },
    {
      "cell_type": "markdown",
      "source": [
        "We've got missing values in 2 columns: \"Age\" & \"Embarked\""
      ],
      "metadata": {
        "id": "677r32CTNDCV"
      }
    },
    {
      "cell_type": "markdown",
      "source": [
        "1.\"Age\" column: "
      ],
      "metadata": {
        "id": "wMN_w0TsNTLk"
      }
    },
    {
      "cell_type": "code",
      "source": [
        "sns.boxplot(training_data[\"Age\"])"
      ],
      "metadata": {
        "colab": {
          "base_uri": "https://localhost:8080/",
          "height": 351
        },
        "id": "bKYyuy68NYfS",
        "outputId": "e52c17b7-d208-47d9-fb45-a1286e9c92a1"
      },
      "execution_count": 31,
      "outputs": [
        {
          "output_type": "stream",
          "name": "stderr",
          "text": [
            "/usr/local/lib/python3.7/dist-packages/seaborn/_decorators.py:43: FutureWarning: Pass the following variable as a keyword arg: x. From version 0.12, the only valid positional argument will be `data`, and passing other arguments without an explicit keyword will result in an error or misinterpretation.\n",
            "  FutureWarning\n"
          ]
        },
        {
          "output_type": "execute_result",
          "data": {
            "text/plain": [
              "<matplotlib.axes._subplots.AxesSubplot at 0x7f6f615c6850>"
            ]
          },
          "metadata": {},
          "execution_count": 31
        },
        {
          "output_type": "display_data",
          "data": {
            "text/plain": [
              "<Figure size 432x288 with 1 Axes>"
            ],
            "image/png": "[encoded data removed]"
          },
          "metadata": {
            "needs_background": "light"
          }
        }
      ]
    },
    {
      "cell_type": "markdown",
      "source": [
        "Since we have outliers, we will use the median for imputation"
      ],
      "metadata": {
        "id": "GsttD2gpNypW"
      }
    },
    {
      "cell_type": "code",
      "source": [
        "training_data[\"Age\"]=training_data[\"Age\"].fillna(training_data[\"Age\"].median())"
      ],
      "metadata": {
        "id": "0WraN3bUOBnw"
      },
      "execution_count": 32,
      "outputs": []
    },
    {
      "cell_type": "markdown",
      "source": [
        "2.\"Embarked\" column\n",
        "we will use the most frequent port \"S\""
      ],
      "metadata": {
        "id": "aLjAWySTOOkS"
      }
    },
    {
      "cell_type": "code",
      "source": [
        "training_data[\"Embarked\"]=training_data[\"Embarked\"].fillna(\"S\")"
      ],
      "metadata": {
        "id": "dDDGIOy6OlF3"
      },
      "execution_count": 33,
      "outputs": []
    },
    {
      "cell_type": "code",
      "source": [
        "training_data.info()"
      ],
      "metadata": {
        "colab": {
          "base_uri": "https://localhost:8080/"
        },
        "id": "Zvq0cuv7OzHV",
        "outputId": "89c30cab-aa4d-4b72-b543-803e2fadcfcf"
      },
      "execution_count": 34,
      "outputs": [
        {
          "output_type": "stream",
          "name": "stdout",
          "text": [
            "<class 'pandas.core.frame.DataFrame'>\n",
            "RangeIndex: 891 entries, 0 to 890\n",
            "Data columns (total 8 columns):\n",
            " #   Column    Non-Null Count  Dtype  \n",
            "---  ------    --------------  -----  \n",
            " 0   Survived  891 non-null    int64  \n",
            " 1   Pclass    891 non-null    int64  \n",
            " 2   Sex       891 non-null    object \n",
            " 3   Age       891 non-null    float64\n",
            " 4   SibSp     891 non-null    int64  \n",
            " 5   Parch     891 non-null    int64  \n",
            " 6   Fare      891 non-null    float64\n",
            " 7   Embarked  891 non-null    object \n",
            "dtypes: float64(2), int64(4), object(2)\n",
            "memory usage: 55.8+ KB\n"
          ]
        }
      ]
    },
    {
      "cell_type": "markdown",
      "source": [
        "* Data distribution"
      ],
      "metadata": {
        "id": "g7XNoMF5Ksno"
      }
    },
    {
      "cell_type": "code",
      "source": [
        "training_data.hist(zorder=2, rwidth=0.9,figsize=(8,8))\n",
        "plt.suptitle(\"features distribution\")"
      ],
      "metadata": {
        "colab": {
          "base_uri": "https://localhost:8080/",
          "height": 557
        },
        "id": "lImABjSLKrTq",
        "outputId": "09e9925b-10f2-4bac-8629-bd89807227e8"
      },
      "execution_count": 35,
      "outputs": [
        {
          "output_type": "execute_result",
          "data": {
            "text/plain": [
              "Text(0.5, 0.98, 'features distribution')"
            ]
          },
          "metadata": {},
          "execution_count": 35
        },
        {
          "output_type": "display_data",
          "data": {
            "text/plain": [
              "<Figure size 576x576 with 6 Axes>"
            ],
            "image/png": "[encoded data removed]"
          },
          "metadata": {
            "needs_background": "light"
          }
        }
      ]
    },
    {
      "cell_type": "markdown",
      "source": [
        "* Correlation"
      ],
      "metadata": {
        "id": "sk1vbLs5LYjP"
      }
    },
    {
      "cell_type": "code",
      "source": [
        "sns.set_theme(style=\"ticks\")\n",
        "sns.pairplot(training_data, hue=\"Survived\")"
      ],
      "metadata": {
        "colab": {
          "base_uri": "https://localhost:8080/",
          "height": 918
        },
        "id": "3zt1gTCeLcoo",
        "outputId": "400b1242-ea02-4a2c-8df7-9d173737e9ab"
      },
      "execution_count": 36,
      "outputs": [
        {
          "output_type": "execute_result",
          "data": {
            "text/plain": [
              "<seaborn.axisgrid.PairGrid at 0x7f6f60d06210>"
            ]
          },
          "metadata": {},
          "execution_count": 36
        },
        {
          "output_type": "display_data",
          "data": {
            "text/plain": [
              "<Figure size 961.55x900 with 30 Axes>"
            ],
            "image/png": "[encoded data removed]"
          },
          "metadata": {}
        }
      ]
    },
    {
      "cell_type": "code",
      "source": [
        "corr=training_data.corr()\n",
        "sns.heatmap(corr, annot=True, fmt='.1f', cbar=False)"
      ],
      "metadata": {
        "colab": {
          "base_uri": "https://localhost:8080/",
          "height": 285
        },
        "id": "P2m3tfMXL_DJ",
        "outputId": "1def4da2-8ec6-4363-daac-2c858d0fb3a6"
      },
      "execution_count": 37,
      "outputs": [
        {
          "output_type": "execute_result",
          "data": {
            "text/plain": [
              "<matplotlib.axes._subplots.AxesSubplot at 0x7f6f5d9dd210>"
            ]
          },
          "metadata": {},
          "execution_count": 37
        },
        {
          "output_type": "display_data",
          "data": {
            "text/plain": [
              "<Figure size 432x288 with 1 Axes>"
            ],
            "image/png": "[encoded data removed]"
          },
          "metadata": {}
        }
      ]
    },
    {
      "cell_type": "code",
      "source": [
        "corr[\"Survived\"].sort_values(ascending=False)"
      ],
      "metadata": {
        "colab": {
          "base_uri": "https://localhost:8080/"
        },
        "id": "ECI_gqVIMQt0",
        "outputId": "b0c5b8e6-6e8c-49fe-d08c-3feef07c02f3"
      },
      "execution_count": 38,
      "outputs": [
        {
          "output_type": "execute_result",
          "data": {
            "text/plain": [
              "Survived    1.000000\n",
              "Fare        0.257307\n",
              "Parch       0.081629\n",
              "SibSp      -0.035322\n",
              "Age        -0.064910\n",
              "Pclass     -0.338481\n",
              "Name: Survived, dtype: float64"
            ]
          },
          "metadata": {},
          "execution_count": 38
        }
      ]
    },
    {
      "cell_type": "markdown",
      "source": [
        "### Data Preparation"
      ],
      "metadata": {
        "id": "d1pD0vJ0Sxy9"
      }
    },
    {
      "cell_type": "markdown",
      "source": [
        "* Performing one-hot encoding on the categorical variable"
      ],
      "metadata": {
        "id": "5_xVO4pHsetJ"
      }
    },
    {
      "cell_type": "code",
      "source": [
        "training_data=pd.get_dummies(data=training_data, columns=['Pclass', 'Sex','Embarked'])\n",
        "training_data.head(5)"
      ],
      "metadata": {
        "colab": {
          "base_uri": "https://localhost:8080/",
          "height": 206
        },
        "id": "r7ODYW3cS8ZK",
        "outputId": "3235babf-33cf-462a-b0f3-f44a96b0e1ac"
      },
      "execution_count": 39,
      "outputs": [
        {
          "output_type": "execute_result",
          "data": {
            "text/plain": [
              "   Survived   Age  SibSp  Parch     Fare  Pclass_1  Pclass_2  Pclass_3  \\\n",
              "0         0  22.0      1      0   7.2500         0         0         1   \n",
              "1         1  38.0      1      0  71.2833         1         0         0   \n",
              "2         1  26.0      0      0   7.9250         0         0         1   \n",
              "3         1  35.0      1      0  53.1000         1         0         0   \n",
              "4         0  35.0      0      0   8.0500         0         0         1   \n",
              "\n",
              "   Sex_female  Sex_male  Embarked_C  Embarked_Q  Embarked_S  \n",
              "0           0         1           0           0           1  \n",
              "1           1         0           1           0           0  \n",
              "2           1         0           0           0           1  \n",
              "3           1         0           0           0           1  \n",
              "4           0         1           0           0           1  "
            ],
            "text/html": [
              "\n",
              "  <div id=\"df-777c04b4-ce1f-46ca-bbb3-4c7b8c0751a3\">\n",
              "    <div class=\"colab-df-container\">\n",
              "      <div>\n",
              "<style scoped>\n",
              "    .dataframe tbody tr th:only-of-type {\n",
              "        vertical-align: middle;\n",
              "    }\n",
              "\n",
              "    .dataframe tbody tr th {\n",
              "        vertical-align: top;\n",
              "    }\n",
              "\n",
              "    .dataframe thead th {\n",
              "        text-align: right;\n",
              "    }\n",
              "</style>\n",
              "<table border=\"1\" class=\"dataframe\">\n",
              "  <thead>\n",
              "    <tr style=\"text-align: right;\">\n",
              "      <th></th>\n",
              "      <th>Survived</th>\n",
              "      <th>Age</th>\n",
              "      <th>SibSp</th>\n",
              "      <th>Parch</th>\n",
              "      <th>Fare</th>\n",
              "      <th>Pclass_1</th>\n",
              "      <th>Pclass_2</th>\n",
              "      <th>Pclass_3</th>\n",
              "      <th>Sex_female</th>\n",
              "      <th>Sex_male</th>\n",
              "      <th>Embarked_C</th>\n",
              "      <th>Embarked_Q</th>\n",
              "      <th>Embarked_S</th>\n",
              "    </tr>\n",
              "  </thead>\n",
              "  <tbody>\n",
              "    <tr>\n",
              "      <th>0</th>\n",
              "      <td>0</td>\n",
              "      <td>22.0</td>\n",
              "      <td>1</td>\n",
              "      <td>0</td>\n",
              "      <td>7.2500</td>\n",
              "      <td>0</td>\n",
              "      <td>0</td>\n",
              "      <td>1</td>\n",
              "      <td>0</td>\n",
              "      <td>1</td>\n",
              "      <td>0</td>\n",
              "      <td>0</td>\n",
              "      <td>1</td>\n",
              "    </tr>\n",
              "    <tr>\n",
              "      <th>1</th>\n",
              "      <td>1</td>\n",
              "      <td>38.0</td>\n",
              "      <td>1</td>\n",
              "      <td>0</td>\n",
              "      <td>71.2833</td>\n",
              "      <td>1</td>\n",
              "      <td>0</td>\n",
              "      <td>0</td>\n",
              "      <td>1</td>\n",
              "      <td>0</td>\n",
              "      <td>1</td>\n",
              "      <td>0</td>\n",
              "      <td>0</td>\n",
              "    </tr>\n",
              "    <tr>\n",
              "      <th>2</th>\n",
              "      <td>1</td>\n",
              "      <td>26.0</td>\n",
              "      <td>0</td>\n",
              "      <td>0</td>\n",
              "      <td>7.9250</td>\n",
              "      <td>0</td>\n",
              "      <td>0</td>\n",
              "      <td>1</td>\n",
              "      <td>1</td>\n",
              "      <td>0</td>\n",
              "      <td>0</td>\n",
              "      <td>0</td>\n",
              "      <td>1</td>\n",
              "    </tr>\n",
              "    <tr>\n",
              "      <th>3</th>\n",
              "      <td>1</td>\n",
              "      <td>35.0</td>\n",
              "      <td>1</td>\n",
              "      <td>0</td>\n",
              "      <td>53.1000</td>\n",
              "      <td>1</td>\n",
              "      <td>0</td>\n",
              "      <td>0</td>\n",
              "      <td>1</td>\n",
              "      <td>0</td>\n",
              "      <td>0</td>\n",
              "      <td>0</td>\n",
              "      <td>1</td>\n",
              "    </tr>\n",
              "    <tr>\n",
              "      <th>4</th>\n",
              "      <td>0</td>\n",
              "      <td>35.0</td>\n",
              "      <td>0</td>\n",
              "      <td>0</td>\n",
              "      <td>8.0500</td>\n",
              "      <td>0</td>\n",
              "      <td>0</td>\n",
              "      <td>1</td>\n",
              "      <td>0</td>\n",
              "      <td>1</td>\n",
              "      <td>0</td>\n",
              "      <td>0</td>\n",
              "      <td>1</td>\n",
              "    </tr>\n",
              "  </tbody>\n",
              "</table>\n",
              "</div>\n",
              "      <button class=\"colab-df-convert\" onclick=\"convertToInteractive('df-777c04b4-ce1f-46ca-bbb3-4c7b8c0751a3')\"\n",
              "              title=\"Convert this dataframe to an interactive table.\"\n",
              "              style=\"display:none;\">\n",
              "        \n",
              "  <svg xmlns=\"http://www.w3.org/2000/svg\" height=\"24px\"viewBox=\"0 0 24 24\"\n",
              "       width=\"24px\">\n",
              "    <path d=\"M0 0h24v24H0V0z\" fill=\"none\"/>\n",
              "    <path d=\"M18.56 5.44l.94 2.06.94-2.06 2.06-.94-2.06-.94-.94-2.06-.94 2.06-2.06.94zm-11 1L8.5 8.5l.94-2.06 2.06-.94-2.06-.94L8.5 2.5l-.94 2.06-2.06.94zm10 10l.94 2.06.94-2.06 2.06-.94-2.06-.94-.94-2.06-.94 2.06-2.06.94z\"/><path d=\"M17.41 7.96l-1.37-1.37c-.4-.4-.92-.59-1.43-.59-.52 0-1.04.2-1.43.59L10.3 9.45l-7.72 7.72c-.78.78-.78 2.05 0 2.83L4 21.41c.39.39.9.59 1.41.59.51 0 1.02-.2 1.41-.59l7.78-7.78 2.81-2.81c.8-.78.8-2.07 0-2.86zM5.41 20L4 18.59l7.72-7.72 1.47 1.35L5.41 20z\"/>\n",
              "  </svg>\n",
              "      </button>\n",
              "      \n",
              "  <style>\n",
              "    .colab-df-container {\n",
              "      display:flex;\n",
              "      flex-wrap:wrap;\n",
              "      gap: 12px;\n",
              "    }\n",
              "\n",
              "    .colab-df-convert {\n",
              "      background-color: #E8F0FE;\n",
              "      border: none;\n",
              "      border-radius: 50%;\n",
              "      cursor: pointer;\n",
              "      display: none;\n",
              "      fill: #1967D2;\n",
              "      height: 32px;\n",
              "      padding: 0 0 0 0;\n",
              "      width: 32px;\n",
              "    }\n",
              "\n",
              "    .colab-df-convert:hover {\n",
              "      background-color: #E2EBFA;\n",
              "      box-shadow: 0px 1px 2px rgba(60, 64, 67, 0.3), 0px 1px 3px 1px rgba(60, 64, 67, 0.15);\n",
              "      fill: #174EA6;\n",
              "    }\n",
              "\n",
              "    [theme=dark] .colab-df-convert {\n",
              "      background-color: #3B4455;\n",
              "      fill: #D2E3FC;\n",
              "    }\n",
              "\n",
              "    [theme=dark] .colab-df-convert:hover {\n",
              "      background-color: #434B5C;\n",
              "      box-shadow: 0px 1px 3px 1px rgba(0, 0, 0, 0.15);\n",
              "      filter: drop-shadow(0px 1px 2px rgba(0, 0, 0, 0.3));\n",
              "      fill: #FFFFFF;\n",
              "    }\n",
              "  </style>\n",
              "\n",
              "      <script>\n",
              "        const buttonEl =\n",
              "          document.querySelector('#df-777c04b4-ce1f-46ca-bbb3-4c7b8c0751a3 button.colab-df-convert');\n",
              "        buttonEl.style.display =\n",
              "          google.colab.kernel.accessAllowed ? 'block' : 'none';\n",
              "\n",
              "        async function convertToInteractive(key) {\n",
              "          const element = document.querySelector('#df-777c04b4-ce1f-46ca-bbb3-4c7b8c0751a3');\n",
              "          const dataTable =\n",
              "            await google.colab.kernel.invokeFunction('convertToInteractive',\n",
              "                                                     [key], {});\n",
              "          if (!dataTable) return;\n",
              "\n",
              "          const docLinkHtml = 'Like what you see? Visit the ' +\n",
              "            '<a target=\"_blank\" href=https://colab.research.google.com/notebooks/data_table.ipynb>data table notebook</a>'\n",
              "            + ' to learn more about interactive tables.';\n",
              "          element.innerHTML = '';\n",
              "          dataTable['output_type'] = 'display_data';\n",
              "          await google.colab.output.renderOutput(dataTable, element);\n",
              "          const docLink = document.createElement('div');\n",
              "          docLink.innerHTML = docLinkHtml;\n",
              "          element.appendChild(docLink);\n",
              "        }\n",
              "      </script>\n",
              "    </div>\n",
              "  </div>\n",
              "  "
            ]
          },
          "metadata": {},
          "execution_count": 39
        }
      ]
    },
    {
      "cell_type": "code",
      "source": [
        "x_train=training_data.drop(columns=[\"Survived\"])\n",
        "y_train=training_data[\"Survived\"]"
      ],
      "metadata": {
        "id": "WCl0Z0CFbFlo"
      },
      "execution_count": 40,
      "outputs": []
    },
    {
      "cell_type": "code",
      "source": [
        "x_train.shape,y_train.shape"
      ],
      "metadata": {
        "colab": {
          "base_uri": "https://localhost:8080/"
        },
        "id": "Mf_S8nKXbXGT",
        "outputId": "b3de748e-b6bc-42df-8cd6-adbacdc81ce4"
      },
      "execution_count": 41,
      "outputs": [
        {
          "output_type": "execute_result",
          "data": {
            "text/plain": [
              "((891, 12), (891,))"
            ]
          },
          "metadata": {},
          "execution_count": 41
        }
      ]
    },
    {
      "cell_type": "markdown",
      "source": [
        "#### Applying the same data cleaning and preparation on the testing set"
      ],
      "metadata": {
        "id": "sR5d_umOathv"
      }
    },
    {
      "cell_type": "code",
      "source": [
        "testing_data=pd.read_csv(\"/content/titanic_data/test.csv\")\n",
        "testing_data.head(5)"
      ],
      "metadata": {
        "colab": {
          "base_uri": "https://localhost:8080/",
          "height": 206
        },
        "id": "Yka4yg9OboZf",
        "outputId": "1822b66d-8eb9-4e75-ad86-a09f2935b69a"
      },
      "execution_count": 42,
      "outputs": [
        {
          "output_type": "execute_result",
          "data": {
            "text/plain": [
              "   PassengerId  Pclass                                          Name     Sex  \\\n",
              "0          892       3                              Kelly, Mr. James    male   \n",
              "1          893       3              Wilkes, Mrs. James (Ellen Needs)  female   \n",
              "2          894       2                     Myles, Mr. Thomas Francis    male   \n",
              "3          895       3                              Wirz, Mr. Albert    male   \n",
              "4          896       3  Hirvonen, Mrs. Alexander (Helga E Lindqvist)  female   \n",
              "\n",
              "    Age  SibSp  Parch   Ticket     Fare Cabin Embarked  \n",
              "0  34.5      0      0   330911   7.8292   NaN        Q  \n",
              "1  47.0      1      0   363272   7.0000   NaN        S  \n",
              "2  62.0      0      0   240276   9.6875   NaN        Q  \n",
              "3  27.0      0      0   315154   8.6625   NaN        S  \n",
              "4  22.0      1      1  3101298  12.2875   NaN        S  "
            ],
            "text/html": [
              "\n",
              "  <div id=\"df-74df6eaf-8732-497d-a3cb-1335f3d3797f\">\n",
              "    <div class=\"colab-df-container\">\n",
              "      <div>\n",
              "<style scoped>\n",
              "    .dataframe tbody tr th:only-of-type {\n",
              "        vertical-align: middle;\n",
              "    }\n",
              "\n",
              "    .dataframe tbody tr th {\n",
              "        vertical-align: top;\n",
              "    }\n",
              "\n",
              "    .dataframe thead th {\n",
              "        text-align: right;\n",
              "    }\n",
              "</style>\n",
              "<table border=\"1\" class=\"dataframe\">\n",
              "  <thead>\n",
              "    <tr style=\"text-align: right;\">\n",
              "      <th></th>\n",
              "      <th>PassengerId</th>\n",
              "      <th>Pclass</th>\n",
              "      <th>Name</th>\n",
              "      <th>Sex</th>\n",
              "      <th>Age</th>\n",
              "      <th>SibSp</th>\n",
              "      <th>Parch</th>\n",
              "      <th>Ticket</th>\n",
              "      <th>Fare</th>\n",
              "      <th>Cabin</th>\n",
              "      <th>Embarked</th>\n",
              "    </tr>\n",
              "  </thead>\n",
              "  <tbody>\n",
              "    <tr>\n",
              "      <th>0</th>\n",
              "      <td>892</td>\n",
              "      <td>3</td>\n",
              "      <td>Kelly, Mr. James</td>\n",
              "      <td>male</td>\n",
              "      <td>34.5</td>\n",
              "      <td>0</td>\n",
              "      <td>0</td>\n",
              "      <td>330911</td>\n",
              "      <td>7.8292</td>\n",
              "      <td>NaN</td>\n",
              "      <td>Q</td>\n",
              "    </tr>\n",
              "    <tr>\n",
              "      <th>1</th>\n",
              "      <td>893</td>\n",
              "      <td>3</td>\n",
              "      <td>Wilkes, Mrs. James (Ellen Needs)</td>\n",
              "      <td>female</td>\n",
              "      <td>47.0</td>\n",
              "      <td>1</td>\n",
              "      <td>0</td>\n",
              "      <td>363272</td>\n",
              "      <td>7.0000</td>\n",
              "      <td>NaN</td>\n",
              "      <td>S</td>\n",
              "    </tr>\n",
              "    <tr>\n",
              "      <th>2</th>\n",
              "      <td>894</td>\n",
              "      <td>2</td>\n",
              "      <td>Myles, Mr. Thomas Francis</td>\n",
              "      <td>male</td>\n",
              "      <td>62.0</td>\n",
              "      <td>0</td>\n",
              "      <td>0</td>\n",
              "      <td>240276</td>\n",
              "      <td>9.6875</td>\n",
              "      <td>NaN</td>\n",
              "      <td>Q</td>\n",
              "    </tr>\n",
              "    <tr>\n",
              "      <th>3</th>\n",
              "      <td>895</td>\n",
              "      <td>3</td>\n",
              "      <td>Wirz, Mr. Albert</td>\n",
              "      <td>male</td>\n",
              "      <td>27.0</td>\n",
              "      <td>0</td>\n",
              "      <td>0</td>\n",
              "      <td>315154</td>\n",
              "      <td>8.6625</td>\n",
              "      <td>NaN</td>\n",
              "      <td>S</td>\n",
              "    </tr>\n",
              "    <tr>\n",
              "      <th>4</th>\n",
              "      <td>896</td>\n",
              "      <td>3</td>\n",
              "      <td>Hirvonen, Mrs. Alexander (Helga E Lindqvist)</td>\n",
              "      <td>female</td>\n",
              "      <td>22.0</td>\n",
              "      <td>1</td>\n",
              "      <td>1</td>\n",
              "      <td>3101298</td>\n",
              "      <td>12.2875</td>\n",
              "      <td>NaN</td>\n",
              "      <td>S</td>\n",
              "    </tr>\n",
              "  </tbody>\n",
              "</table>\n",
              "</div>\n",
              "      <button class=\"colab-df-convert\" onclick=\"convertToInteractive('df-74df6eaf-8732-497d-a3cb-1335f3d3797f')\"\n",
              "              title=\"Convert this dataframe to an interactive table.\"\n",
              "              style=\"display:none;\">\n",
              "        \n",
              "  <svg xmlns=\"http://www.w3.org/2000/svg\" height=\"24px\"viewBox=\"0 0 24 24\"\n",
              "       width=\"24px\">\n",
              "    <path d=\"M0 0h24v24H0V0z\" fill=\"none\"/>\n",
              "    <path d=\"M18.56 5.44l.94 2.06.94-2.06 2.06-.94-2.06-.94-.94-2.06-.94 2.06-2.06.94zm-11 1L8.5 8.5l.94-2.06 2.06-.94-2.06-.94L8.5 2.5l-.94 2.06-2.06.94zm10 10l.94 2.06.94-2.06 2.06-.94-2.06-.94-.94-2.06-.94 2.06-2.06.94z\"/><path d=\"M17.41 7.96l-1.37-1.37c-.4-.4-.92-.59-1.43-.59-.52 0-1.04.2-1.43.59L10.3 9.45l-7.72 7.72c-.78.78-.78 2.05 0 2.83L4 21.41c.39.39.9.59 1.41.59.51 0 1.02-.2 1.41-.59l7.78-7.78 2.81-2.81c.8-.78.8-2.07 0-2.86zM5.41 20L4 18.59l7.72-7.72 1.47 1.35L5.41 20z\"/>\n",
              "  </svg>\n",
              "      </button>\n",
              "      \n",
              "  <style>\n",
              "    .colab-df-container {\n",
              "      display:flex;\n",
              "      flex-wrap:wrap;\n",
              "      gap: 12px;\n",
              "    }\n",
              "\n",
              "    .colab-df-convert {\n",
              "      background-color: #E8F0FE;\n",
              "      border: none;\n",
              "      border-radius: 50%;\n",
              "      cursor: pointer;\n",
              "      display: none;\n",
              "      fill: #1967D2;\n",
              "      height: 32px;\n",
              "      padding: 0 0 0 0;\n",
              "      width: 32px;\n",
              "    }\n",
              "\n",
              "    .colab-df-convert:hover {\n",
              "      background-color: #E2EBFA;\n",
              "      box-shadow: 0px 1px 2px rgba(60, 64, 67, 0.3), 0px 1px 3px 1px rgba(60, 64, 67, 0.15);\n",
              "      fill: #174EA6;\n",
              "    }\n",
              "\n",
              "    [theme=dark] .colab-df-convert {\n",
              "      background-color: #3B4455;\n",
              "      fill: #D2E3FC;\n",
              "    }\n",
              "\n",
              "    [theme=dark] .colab-df-convert:hover {\n",
              "      background-color: #434B5C;\n",
              "      box-shadow: 0px 1px 3px 1px rgba(0, 0, 0, 0.15);\n",
              "      filter: drop-shadow(0px 1px 2px rgba(0, 0, 0, 0.3));\n",
              "      fill: #FFFFFF;\n",
              "    }\n",
              "  </style>\n",
              "\n",
              "      <script>\n",
              "        const buttonEl =\n",
              "          document.querySelector('#df-74df6eaf-8732-497d-a3cb-1335f3d3797f button.colab-df-convert');\n",
              "        buttonEl.style.display =\n",
              "          google.colab.kernel.accessAllowed ? 'block' : 'none';\n",
              "\n",
              "        async function convertToInteractive(key) {\n",
              "          const element = document.querySelector('#df-74df6eaf-8732-497d-a3cb-1335f3d3797f');\n",
              "          const dataTable =\n",
              "            await google.colab.kernel.invokeFunction('convertToInteractive',\n",
              "                                                     [key], {});\n",
              "          if (!dataTable) return;\n",
              "\n",
              "          const docLinkHtml = 'Like what you see? Visit the ' +\n",
              "            '<a target=\"_blank\" href=https://colab.research.google.com/notebooks/data_table.ipynb>data table notebook</a>'\n",
              "            + ' to learn more about interactive tables.';\n",
              "          element.innerHTML = '';\n",
              "          dataTable['output_type'] = 'display_data';\n",
              "          await google.colab.output.renderOutput(dataTable, element);\n",
              "          const docLink = document.createElement('div');\n",
              "          docLink.innerHTML = docLinkHtml;\n",
              "          element.appendChild(docLink);\n",
              "        }\n",
              "      </script>\n",
              "    </div>\n",
              "  </div>\n",
              "  "
            ]
          },
          "metadata": {},
          "execution_count": 42
        }
      ]
    },
    {
      "cell_type": "code",
      "source": [
        "testing_data=testing_data.drop(columns=[\"PassengerId\",\"Name\",\"Ticket\",\"Cabin\"])\n",
        "testing_data.head(5)"
      ],
      "metadata": {
        "colab": {
          "base_uri": "https://localhost:8080/",
          "height": 206
        },
        "id": "sccIrKF3b4JK",
        "outputId": "34db005f-83df-4d16-8082-a10a9b57ceb4"
      },
      "execution_count": 43,
      "outputs": [
        {
          "output_type": "execute_result",
          "data": {
            "text/plain": [
              "   Pclass     Sex   Age  SibSp  Parch     Fare Embarked\n",
              "0       3    male  34.5      0      0   7.8292        Q\n",
              "1       3  female  47.0      1      0   7.0000        S\n",
              "2       2    male  62.0      0      0   9.6875        Q\n",
              "3       3    male  27.0      0      0   8.6625        S\n",
              "4       3  female  22.0      1      1  12.2875        S"
            ],
            "text/html": [
              "\n",
              "  <div id=\"df-e7209ab3-0cb7-4673-8185-e2e8e11d8f3f\">\n",
              "    <div class=\"colab-df-container\">\n",
              "      <div>\n",
              "<style scoped>\n",
              "    .dataframe tbody tr th:only-of-type {\n",
              "        vertical-align: middle;\n",
              "    }\n",
              "\n",
              "    .dataframe tbody tr th {\n",
              "        vertical-align: top;\n",
              "    }\n",
              "\n",
              "    .dataframe thead th {\n",
              "        text-align: right;\n",
              "    }\n",
              "</style>\n",
              "<table border=\"1\" class=\"dataframe\">\n",
              "  <thead>\n",
              "    <tr style=\"text-align: right;\">\n",
              "      <th></th>\n",
              "      <th>Pclass</th>\n",
              "      <th>Sex</th>\n",
              "      <th>Age</th>\n",
              "      <th>SibSp</th>\n",
              "      <th>Parch</th>\n",
              "      <th>Fare</th>\n",
              "      <th>Embarked</th>\n",
              "    </tr>\n",
              "  </thead>\n",
              "  <tbody>\n",
              "    <tr>\n",
              "      <th>0</th>\n",
              "      <td>3</td>\n",
              "      <td>male</td>\n",
              "      <td>34.5</td>\n",
              "      <td>0</td>\n",
              "      <td>0</td>\n",
              "      <td>7.8292</td>\n",
              "      <td>Q</td>\n",
              "    </tr>\n",
              "    <tr>\n",
              "      <th>1</th>\n",
              "      <td>3</td>\n",
              "      <td>female</td>\n",
              "      <td>47.0</td>\n",
              "      <td>1</td>\n",
              "      <td>0</td>\n",
              "      <td>7.0000</td>\n",
              "      <td>S</td>\n",
              "    </tr>\n",
              "    <tr>\n",
              "      <th>2</th>\n",
              "      <td>2</td>\n",
              "      <td>male</td>\n",
              "      <td>62.0</td>\n",
              "      <td>0</td>\n",
              "      <td>0</td>\n",
              "      <td>9.6875</td>\n",
              "      <td>Q</td>\n",
              "    </tr>\n",
              "    <tr>\n",
              "      <th>3</th>\n",
              "      <td>3</td>\n",
              "      <td>male</td>\n",
              "      <td>27.0</td>\n",
              "      <td>0</td>\n",
              "      <td>0</td>\n",
              "      <td>8.6625</td>\n",
              "      <td>S</td>\n",
              "    </tr>\n",
              "    <tr>\n",
              "      <th>4</th>\n",
              "      <td>3</td>\n",
              "      <td>female</td>\n",
              "      <td>22.0</td>\n",
              "      <td>1</td>\n",
              "      <td>1</td>\n",
              "      <td>12.2875</td>\n",
              "      <td>S</td>\n",
              "    </tr>\n",
              "  </tbody>\n",
              "</table>\n",
              "</div>\n",
              "      <button class=\"colab-df-convert\" onclick=\"convertToInteractive('df-e7209ab3-0cb7-4673-8185-e2e8e11d8f3f')\"\n",
              "              title=\"Convert this dataframe to an interactive table.\"\n",
              "              style=\"display:none;\">\n",
              "        \n",
              "  <svg xmlns=\"http://www.w3.org/2000/svg\" height=\"24px\"viewBox=\"0 0 24 24\"\n",
              "       width=\"24px\">\n",
              "    <path d=\"M0 0h24v24H0V0z\" fill=\"none\"/>\n",
              "    <path d=\"M18.56 5.44l.94 2.06.94-2.06 2.06-.94-2.06-.94-.94-2.06-.94 2.06-2.06.94zm-11 1L8.5 8.5l.94-2.06 2.06-.94-2.06-.94L8.5 2.5l-.94 2.06-2.06.94zm10 10l.94 2.06.94-2.06 2.06-.94-2.06-.94-.94-2.06-.94 2.06-2.06.94z\"/><path d=\"M17.41 7.96l-1.37-1.37c-.4-.4-.92-.59-1.43-.59-.52 0-1.04.2-1.43.59L10.3 9.45l-7.72 7.72c-.78.78-.78 2.05 0 2.83L4 21.41c.39.39.9.59 1.41.59.51 0 1.02-.2 1.41-.59l7.78-7.78 2.81-2.81c.8-.78.8-2.07 0-2.86zM5.41 20L4 18.59l7.72-7.72 1.47 1.35L5.41 20z\"/>\n",
              "  </svg>\n",
              "      </button>\n",
              "      \n",
              "  <style>\n",
              "    .colab-df-container {\n",
              "      display:flex;\n",
              "      flex-wrap:wrap;\n",
              "      gap: 12px;\n",
              "    }\n",
              "\n",
              "    .colab-df-convert {\n",
              "      background-color: #E8F0FE;\n",
              "      border: none;\n",
              "      border-radius: 50%;\n",
              "      cursor: pointer;\n",
              "      display: none;\n",
              "      fill: #1967D2;\n",
              "      height: 32px;\n",
              "      padding: 0 0 0 0;\n",
              "      width: 32px;\n",
              "    }\n",
              "\n",
              "    .colab-df-convert:hover {\n",
              "      background-color: #E2EBFA;\n",
              "      box-shadow: 0px 1px 2px rgba(60, 64, 67, 0.3), 0px 1px 3px 1px rgba(60, 64, 67, 0.15);\n",
              "      fill: #174EA6;\n",
              "    }\n",
              "\n",
              "    [theme=dark] .colab-df-convert {\n",
              "      background-color: #3B4455;\n",
              "      fill: #D2E3FC;\n",
              "    }\n",
              "\n",
              "    [theme=dark] .colab-df-convert:hover {\n",
              "      background-color: #434B5C;\n",
              "      box-shadow: 0px 1px 3px 1px rgba(0, 0, 0, 0.15);\n",
              "      filter: drop-shadow(0px 1px 2px rgba(0, 0, 0, 0.3));\n",
              "      fill: #FFFFFF;\n",
              "    }\n",
              "  </style>\n",
              "\n",
              "      <script>\n",
              "        const buttonEl =\n",
              "          document.querySelector('#df-e7209ab3-0cb7-4673-8185-e2e8e11d8f3f button.colab-df-convert');\n",
              "        buttonEl.style.display =\n",
              "          google.colab.kernel.accessAllowed ? 'block' : 'none';\n",
              "\n",
              "        async function convertToInteractive(key) {\n",
              "          const element = document.querySelector('#df-e7209ab3-0cb7-4673-8185-e2e8e11d8f3f');\n",
              "          const dataTable =\n",
              "            await google.colab.kernel.invokeFunction('convertToInteractive',\n",
              "                                                     [key], {});\n",
              "          if (!dataTable) return;\n",
              "\n",
              "          const docLinkHtml = 'Like what you see? Visit the ' +\n",
              "            '<a target=\"_blank\" href=https://colab.research.google.com/notebooks/data_table.ipynb>data table notebook</a>'\n",
              "            + ' to learn more about interactive tables.';\n",
              "          element.innerHTML = '';\n",
              "          dataTable['output_type'] = 'display_data';\n",
              "          await google.colab.output.renderOutput(dataTable, element);\n",
              "          const docLink = document.createElement('div');\n",
              "          docLink.innerHTML = docLinkHtml;\n",
              "          element.appendChild(docLink);\n",
              "        }\n",
              "      </script>\n",
              "    </div>\n",
              "  </div>\n",
              "  "
            ]
          },
          "metadata": {},
          "execution_count": 43
        }
      ]
    },
    {
      "cell_type": "code",
      "source": [
        "testing_data.info()"
      ],
      "metadata": {
        "colab": {
          "base_uri": "https://localhost:8080/"
        },
        "id": "VvPk_mvgdEDJ",
        "outputId": "05fbf967-381a-404d-c425-8512e80f2aee"
      },
      "execution_count": 44,
      "outputs": [
        {
          "output_type": "stream",
          "name": "stdout",
          "text": [
            "<class 'pandas.core.frame.DataFrame'>\n",
            "RangeIndex: 418 entries, 0 to 417\n",
            "Data columns (total 7 columns):\n",
            " #   Column    Non-Null Count  Dtype  \n",
            "---  ------    --------------  -----  \n",
            " 0   Pclass    418 non-null    int64  \n",
            " 1   Sex       418 non-null    object \n",
            " 2   Age       332 non-null    float64\n",
            " 3   SibSp     418 non-null    int64  \n",
            " 4   Parch     418 non-null    int64  \n",
            " 5   Fare      417 non-null    float64\n",
            " 6   Embarked  418 non-null    object \n",
            "dtypes: float64(2), int64(3), object(2)\n",
            "memory usage: 23.0+ KB\n"
          ]
        }
      ]
    },
    {
      "cell_type": "code",
      "source": [
        "testing_data[\"Age\"]=testing_data[\"Age\"].fillna(training_data[\"Age\"].median())\n",
        "testing_data[\"Fare\"]=testing_data[\"Fare\"].fillna(training_data[\"Fare\"].mean())"
      ],
      "metadata": {
        "id": "8Eipxj2vckkY"
      },
      "execution_count": 45,
      "outputs": []
    },
    {
      "cell_type": "code",
      "source": [
        "testing_data.info()"
      ],
      "metadata": {
        "colab": {
          "base_uri": "https://localhost:8080/"
        },
        "id": "VFFzuf9ucb73",
        "outputId": "e614a140-7106-4013-8e05-29a88811c171"
      },
      "execution_count": 46,
      "outputs": [
        {
          "output_type": "stream",
          "name": "stdout",
          "text": [
            "<class 'pandas.core.frame.DataFrame'>\n",
            "RangeIndex: 418 entries, 0 to 417\n",
            "Data columns (total 7 columns):\n",
            " #   Column    Non-Null Count  Dtype  \n",
            "---  ------    --------------  -----  \n",
            " 0   Pclass    418 non-null    int64  \n",
            " 1   Sex       418 non-null    object \n",
            " 2   Age       418 non-null    float64\n",
            " 3   SibSp     418 non-null    int64  \n",
            " 4   Parch     418 non-null    int64  \n",
            " 5   Fare      418 non-null    float64\n",
            " 6   Embarked  418 non-null    object \n",
            "dtypes: float64(2), int64(3), object(2)\n",
            "memory usage: 23.0+ KB\n"
          ]
        }
      ]
    },
    {
      "cell_type": "code",
      "source": [
        "testing_data=pd.get_dummies(data=testing_data, columns=['Pclass', 'Sex','Embarked'])\n",
        "testing_data.head(5)"
      ],
      "metadata": {
        "colab": {
          "base_uri": "https://localhost:8080/",
          "height": 206
        },
        "id": "slcfkyqIdubM",
        "outputId": "991425ca-2b83-4ba6-d3af-da59aa29dc3b"
      },
      "execution_count": 47,
      "outputs": [
        {
          "output_type": "execute_result",
          "data": {
            "text/plain": [
              "    Age  SibSp  Parch     Fare  Pclass_1  Pclass_2  Pclass_3  Sex_female  \\\n",
              "0  34.5      0      0   7.8292         0         0         1           0   \n",
              "1  47.0      1      0   7.0000         0         0         1           1   \n",
              "2  62.0      0      0   9.6875         0         1         0           0   \n",
              "3  27.0      0      0   8.6625         0         0         1           0   \n",
              "4  22.0      1      1  12.2875         0         0         1           1   \n",
              "\n",
              "   Sex_male  Embarked_C  Embarked_Q  Embarked_S  \n",
              "0         1           0           1           0  \n",
              "1         0           0           0           1  \n",
              "2         1           0           1           0  \n",
              "3         1           0           0           1  \n",
              "4         0           0           0           1  "
            ],
            "text/html": [
              "\n",
              "  <div id=\"df-a99b3803-677d-42aa-bb03-9c06698fa973\">\n",
              "    <div class=\"colab-df-container\">\n",
              "      <div>\n",
              "<style scoped>\n",
              "    .dataframe tbody tr th:only-of-type {\n",
              "        vertical-align: middle;\n",
              "    }\n",
              "\n",
              "    .dataframe tbody tr th {\n",
              "        vertical-align: top;\n",
              "    }\n",
              "\n",
              "    .dataframe thead th {\n",
              "        text-align: right;\n",
              "    }\n",
              "</style>\n",
              "<table border=\"1\" class=\"dataframe\">\n",
              "  <thead>\n",
              "    <tr style=\"text-align: right;\">\n",
              "      <th></th>\n",
              "      <th>Age</th>\n",
              "      <th>SibSp</th>\n",
              "      <th>Parch</th>\n",
              "      <th>Fare</th>\n",
              "      <th>Pclass_1</th>\n",
              "      <th>Pclass_2</th>\n",
              "      <th>Pclass_3</th>\n",
              "      <th>Sex_female</th>\n",
              "      <th>Sex_male</th>\n",
              "      <th>Embarked_C</th>\n",
              "      <th>Embarked_Q</th>\n",
              "      <th>Embarked_S</th>\n",
              "    </tr>\n",
              "  </thead>\n",
              "  <tbody>\n",
              "    <tr>\n",
              "      <th>0</th>\n",
              "      <td>34.5</td>\n",
              "      <td>0</td>\n",
              "      <td>0</td>\n",
              "      <td>7.8292</td>\n",
              "      <td>0</td>\n",
              "      <td>0</td>\n",
              "      <td>1</td>\n",
              "      <td>0</td>\n",
              "      <td>1</td>\n",
              "      <td>0</td>\n",
              "      <td>1</td>\n",
              "      <td>0</td>\n",
              "    </tr>\n",
              "    <tr>\n",
              "      <th>1</th>\n",
              "      <td>47.0</td>\n",
              "      <td>1</td>\n",
              "      <td>0</td>\n",
              "      <td>7.0000</td>\n",
              "      <td>0</td>\n",
              "      <td>0</td>\n",
              "      <td>1</td>\n",
              "      <td>1</td>\n",
              "      <td>0</td>\n",
              "      <td>0</td>\n",
              "      <td>0</td>\n",
              "      <td>1</td>\n",
              "    </tr>\n",
              "    <tr>\n",
              "      <th>2</th>\n",
              "      <td>62.0</td>\n",
              "      <td>0</td>\n",
              "      <td>0</td>\n",
              "      <td>9.6875</td>\n",
              "      <td>0</td>\n",
              "      <td>1</td>\n",
              "      <td>0</td>\n",
              "      <td>0</td>\n",
              "      <td>1</td>\n",
              "      <td>0</td>\n",
              "      <td>1</td>\n",
              "      <td>0</td>\n",
              "    </tr>\n",
              "    <tr>\n",
              "      <th>3</th>\n",
              "      <td>27.0</td>\n",
              "      <td>0</td>\n",
              "      <td>0</td>\n",
              "      <td>8.6625</td>\n",
              "      <td>0</td>\n",
              "      <td>0</td>\n",
              "      <td>1</td>\n",
              "      <td>0</td>\n",
              "      <td>1</td>\n",
              "      <td>0</td>\n",
              "      <td>0</td>\n",
              "      <td>1</td>\n",
              "    </tr>\n",
              "    <tr>\n",
              "      <th>4</th>\n",
              "      <td>22.0</td>\n",
              "      <td>1</td>\n",
              "      <td>1</td>\n",
              "      <td>12.2875</td>\n",
              "      <td>0</td>\n",
              "      <td>0</td>\n",
              "      <td>1</td>\n",
              "      <td>1</td>\n",
              "      <td>0</td>\n",
              "      <td>0</td>\n",
              "      <td>0</td>\n",
              "      <td>1</td>\n",
              "    </tr>\n",
              "  </tbody>\n",
              "</table>\n",
              "</div>\n",
              "      <button class=\"colab-df-convert\" onclick=\"convertToInteractive('df-a99b3803-677d-42aa-bb03-9c06698fa973')\"\n",
              "              title=\"Convert this dataframe to an interactive table.\"\n",
              "              style=\"display:none;\">\n",
              "        \n",
              "  <svg xmlns=\"http://www.w3.org/2000/svg\" height=\"24px\"viewBox=\"0 0 24 24\"\n",
              "       width=\"24px\">\n",
              "    <path d=\"M0 0h24v24H0V0z\" fill=\"none\"/>\n",
              "    <path d=\"M18.56 5.44l.94 2.06.94-2.06 2.06-.94-2.06-.94-.94-2.06-.94 2.06-2.06.94zm-11 1L8.5 8.5l.94-2.06 2.06-.94-2.06-.94L8.5 2.5l-.94 2.06-2.06.94zm10 10l.94 2.06.94-2.06 2.06-.94-2.06-.94-.94-2.06-.94 2.06-2.06.94z\"/><path d=\"M17.41 7.96l-1.37-1.37c-.4-.4-.92-.59-1.43-.59-.52 0-1.04.2-1.43.59L10.3 9.45l-7.72 7.72c-.78.78-.78 2.05 0 2.83L4 21.41c.39.39.9.59 1.41.59.51 0 1.02-.2 1.41-.59l7.78-7.78 2.81-2.81c.8-.78.8-2.07 0-2.86zM5.41 20L4 18.59l7.72-7.72 1.47 1.35L5.41 20z\"/>\n",
              "  </svg>\n",
              "      </button>\n",
              "      \n",
              "  <style>\n",
              "    .colab-df-container {\n",
              "      display:flex;\n",
              "      flex-wrap:wrap;\n",
              "      gap: 12px;\n",
              "    }\n",
              "\n",
              "    .colab-df-convert {\n",
              "      background-color: #E8F0FE;\n",
              "      border: none;\n",
              "      border-radius: 50%;\n",
              "      cursor: pointer;\n",
              "      display: none;\n",
              "      fill: #1967D2;\n",
              "      height: 32px;\n",
              "      padding: 0 0 0 0;\n",
              "      width: 32px;\n",
              "    }\n",
              "\n",
              "    .colab-df-convert:hover {\n",
              "      background-color: #E2EBFA;\n",
              "      box-shadow: 0px 1px 2px rgba(60, 64, 67, 0.3), 0px 1px 3px 1px rgba(60, 64, 67, 0.15);\n",
              "      fill: #174EA6;\n",
              "    }\n",
              "\n",
              "    [theme=dark] .colab-df-convert {\n",
              "      background-color: #3B4455;\n",
              "      fill: #D2E3FC;\n",
              "    }\n",
              "\n",
              "    [theme=dark] .colab-df-convert:hover {\n",
              "      background-color: #434B5C;\n",
              "      box-shadow: 0px 1px 3px 1px rgba(0, 0, 0, 0.15);\n",
              "      filter: drop-shadow(0px 1px 2px rgba(0, 0, 0, 0.3));\n",
              "      fill: #FFFFFF;\n",
              "    }\n",
              "  </style>\n",
              "\n",
              "      <script>\n",
              "        const buttonEl =\n",
              "          document.querySelector('#df-a99b3803-677d-42aa-bb03-9c06698fa973 button.colab-df-convert');\n",
              "        buttonEl.style.display =\n",
              "          google.colab.kernel.accessAllowed ? 'block' : 'none';\n",
              "\n",
              "        async function convertToInteractive(key) {\n",
              "          const element = document.querySelector('#df-a99b3803-677d-42aa-bb03-9c06698fa973');\n",
              "          const dataTable =\n",
              "            await google.colab.kernel.invokeFunction('convertToInteractive',\n",
              "                                                     [key], {});\n",
              "          if (!dataTable) return;\n",
              "\n",
              "          const docLinkHtml = 'Like what you see? Visit the ' +\n",
              "            '<a target=\"_blank\" href=https://colab.research.google.com/notebooks/data_table.ipynb>data table notebook</a>'\n",
              "            + ' to learn more about interactive tables.';\n",
              "          element.innerHTML = '';\n",
              "          dataTable['output_type'] = 'display_data';\n",
              "          await google.colab.output.renderOutput(dataTable, element);\n",
              "          const docLink = document.createElement('div');\n",
              "          docLink.innerHTML = docLinkHtml;\n",
              "          element.appendChild(docLink);\n",
              "        }\n",
              "      </script>\n",
              "    </div>\n",
              "  </div>\n",
              "  "
            ]
          },
          "metadata": {},
          "execution_count": 47
        }
      ]
    },
    {
      "cell_type": "code",
      "source": [
        "x_test=testing_data\n",
        "x_test.shape"
      ],
      "metadata": {
        "colab": {
          "base_uri": "https://localhost:8080/"
        },
        "id": "hD7MOs_Vd93T",
        "outputId": "ea115b42-84aa-46a9-ab61-b348786ab08b"
      },
      "execution_count": 48,
      "outputs": [
        {
          "output_type": "execute_result",
          "data": {
            "text/plain": [
              "(418, 12)"
            ]
          },
          "metadata": {},
          "execution_count": 48
        }
      ]
    },
    {
      "cell_type": "markdown",
      "source": [
        "### Features Rescaling "
      ],
      "metadata": {
        "id": "HiJGoJ-Qf-Q5"
      }
    },
    {
      "cell_type": "markdown",
      "source": [
        "Check if Features Rescaling is needed"
      ],
      "metadata": {
        "id": "qMeHmAeZ3t_E"
      }
    },
    {
      "cell_type": "code",
      "source": [
        "print(f'Ranges of features:{np.ptp(x_train,axis=0)}')"
      ],
      "metadata": {
        "colab": {
          "base_uri": "https://localhost:8080/"
        },
        "id": "oMlLTjcbelZK",
        "outputId": "66650fb9-40c4-4c1d-93f8-45689f3dbd89"
      },
      "execution_count": 49,
      "outputs": [
        {
          "output_type": "stream",
          "name": "stdout",
          "text": [
            "Ranges of features:[ 79.58   8.     6.   512.33   1.     1.     1.     1.     1.     1.\n",
            "   1.     1.  ]\n"
          ]
        }
      ]
    },
    {
      "cell_type": "markdown",
      "source": [
        "Rescaling is required"
      ],
      "metadata": {
        "id": "0FTeCZSqeu6x"
      }
    },
    {
      "cell_type": "code",
      "source": [
        "scaler = StandardScaler().fit(x_train.iloc[:, :4])\n",
        "# to exclude the categorical variables from rescaling\n",
        "def preprocessor(x):\n",
        "  A = np.copy(x)\n",
        "  A[:, :4] = scaler.transform(A[:, :4])\n",
        "  return A\n",
        "x_train,x_test=preprocessor(x_train),preprocessor(x_test)"
      ],
      "metadata": {
        "colab": {
          "base_uri": "https://localhost:8080/"
        },
        "id": "mrkwp1PVezuj",
        "outputId": "78107665-0899-4d5b-a626-90d58afb128f"
      },
      "execution_count": 50,
      "outputs": [
        {
          "output_type": "stream",
          "name": "stderr",
          "text": [
            "/usr/local/lib/python3.7/dist-packages/sklearn/base.py:451: UserWarning: X does not have valid feature names, but StandardScaler was fitted with feature names\n",
            "  \"X does not have valid feature names, but\"\n",
            "/usr/local/lib/python3.7/dist-packages/sklearn/base.py:451: UserWarning: X does not have valid feature names, but StandardScaler was fitted with feature names\n",
            "  \"X does not have valid feature names, but\"\n"
          ]
        }
      ]
    },
    {
      "cell_type": "code",
      "source": [
        "x_train"
      ],
      "metadata": {
        "colab": {
          "base_uri": "https://localhost:8080/"
        },
        "id": "q_on2QGDfZLi",
        "outputId": "05e5b154-cc37-49fb-f3ca-ab1099768f57"
      },
      "execution_count": 51,
      "outputs": [
        {
          "output_type": "execute_result",
          "data": {
            "text/plain": [
              "array([[-0.57,  0.43, -0.47, ...,  0.  ,  0.  ,  1.  ],\n",
              "       [ 0.66,  0.43, -0.47, ...,  1.  ,  0.  ,  0.  ],\n",
              "       [-0.26, -0.47, -0.47, ...,  0.  ,  0.  ,  1.  ],\n",
              "       ...,\n",
              "       [-0.1 ,  0.43,  2.01, ...,  0.  ,  0.  ,  1.  ],\n",
              "       [-0.26, -0.47, -0.47, ...,  1.  ,  0.  ,  0.  ],\n",
              "       [ 0.2 , -0.47, -0.47, ...,  0.  ,  1.  ,  0.  ]])"
            ]
          },
          "metadata": {},
          "execution_count": 51
        }
      ]
    },
    {
      "cell_type": "code",
      "source": [
        "x_test"
      ],
      "metadata": {
        "colab": {
          "base_uri": "https://localhost:8080/"
        },
        "id": "EDj2hCanffgb",
        "outputId": "239b7c64-5027-44d0-868b-307963e6e385"
      },
      "execution_count": 52,
      "outputs": [
        {
          "output_type": "execute_result",
          "data": {
            "text/plain": [
              "array([[ 0.39, -0.47, -0.47, ...,  0.  ,  1.  ,  0.  ],\n",
              "       [ 1.36,  0.43, -0.47, ...,  0.  ,  0.  ,  1.  ],\n",
              "       [ 2.51, -0.47, -0.47, ...,  0.  ,  1.  ,  0.  ],\n",
              "       ...,\n",
              "       [ 0.7 , -0.47, -0.47, ...,  0.  ,  0.  ,  1.  ],\n",
              "       [-0.1 , -0.47, -0.47, ...,  0.  ,  0.  ,  1.  ],\n",
              "       [-0.1 ,  0.43,  0.77, ...,  1.  ,  0.  ,  0.  ]])"
            ]
          },
          "metadata": {},
          "execution_count": 52
        }
      ]
    },
    {
      "cell_type": "code",
      "source": [
        "print(f'Ranges of training features after rescaling:{np.ptp(x_train,axis=0)}')\n",
        "print(f'Ranges of  testing features after rescaling:{np.ptp(x_test,axis=0)}')"
      ],
      "metadata": {
        "colab": {
          "base_uri": "https://localhost:8080/"
        },
        "id": "rMy2Um1ofjKT",
        "outputId": "514f08cc-d1aa-4281-fae6-303f7b7426ad"
      },
      "execution_count": 53,
      "outputs": [
        {
          "output_type": "stream",
          "name": "stdout",
          "text": [
            "Ranges of training features after rescaling:[ 6.12  7.26  7.45 10.32  1.    1.    1.    1.    1.    1.    1.    1.  ]\n",
            "Ranges of  testing features after rescaling:[ 5.83  7.26 11.17 10.32  1.    1.    1.    1.    1.    1.    1.    1.  ]\n"
          ]
        }
      ]
    },
    {
      "cell_type": "markdown",
      "source": [
        "### Building The Model"
      ],
      "metadata": {
        "id": "yZoMZWspgJGP"
      }
    },
    {
      "cell_type": "code",
      "source": [
        "logreg=LogisticRegression(random_state=0)\n",
        "logreg.fit(x_train,y_train)"
      ],
      "metadata": {
        "colab": {
          "base_uri": "https://localhost:8080/"
        },
        "id": "0viDsRtJgOXg",
        "outputId": "d37ea66a-1dc4-4463-b0e6-b59185d401d6"
      },
      "execution_count": 54,
      "outputs": [
        {
          "output_type": "execute_result",
          "data": {
            "text/plain": [
              "LogisticRegression(random_state=0)"
            ]
          },
          "metadata": {},
          "execution_count": 54
        }
      ]
    },
    {
      "cell_type": "markdown",
      "source": [
        "* Testing the model performance on the training set"
      ],
      "metadata": {
        "id": "s_-JmrbapiGb"
      }
    },
    {
      "cell_type": "code",
      "source": [
        "logreg.score(x_train,y_train)"
      ],
      "metadata": {
        "colab": {
          "base_uri": "https://localhost:8080/"
        },
        "id": "x63_RN-_pqkQ",
        "outputId": "de3c9984-4800-4567-bb35-de843e062f9e"
      },
      "execution_count": 55,
      "outputs": [
        {
          "output_type": "execute_result",
          "data": {
            "text/plain": [
              "0.8058361391694725"
            ]
          },
          "metadata": {},
          "execution_count": 55
        }
      ]
    },
    {
      "cell_type": "code",
      "source": [
        "y_pred=logreg.predict(x_train)\n",
        "cnf_matrix = metrics.confusion_matrix(y_train, y_pred)\n",
        "cnf_matrix"
      ],
      "metadata": {
        "colab": {
          "base_uri": "https://localhost:8080/"
        },
        "id": "m-57KffKqht6",
        "outputId": "24062b85-592f-4710-cf08-102a3da37281"
      },
      "execution_count": 56,
      "outputs": [
        {
          "output_type": "execute_result",
          "data": {
            "text/plain": [
              "array([[478,  71],\n",
              "       [102, 240]])"
            ]
          },
          "metadata": {},
          "execution_count": 56
        }
      ]
    },
    {
      "cell_type": "code",
      "source": [
        "class_names = [0,1] # name  of classes\n",
        "fig, ax = plt.subplots()\n",
        "tick_marks = np.arange(len(class_names))\n",
        "plt.xticks(tick_marks, class_names)\n",
        "plt.yticks(tick_marks, class_names)\n",
        "\n",
        "# create heatmap\n",
        "sns.heatmap(pd.DataFrame(cnf_matrix), annot=True, cmap=\"YlGnBu\" ,fmt='g')\n",
        "ax.xaxis.set_label_position(\"top\")\n",
        "plt.tight_layout()\n",
        "plt.title('Confusion matrix', y=1.1)\n",
        "plt.ylabel('Actual label')\n",
        "plt.xlabel('Predicted label')"
      ],
      "metadata": {
        "colab": {
          "base_uri": "https://localhost:8080/",
          "height": 340
        },
        "id": "LJ3rfhHIrbpd",
        "outputId": "14b41331-1577-4f67-9f15-d62873939854"
      },
      "execution_count": 57,
      "outputs": [
        {
          "output_type": "execute_result",
          "data": {
            "text/plain": [
              "Text(0.5, 257.44, 'Predicted label')"
            ]
          },
          "metadata": {},
          "execution_count": 57
        },
        {
          "output_type": "display_data",
          "data": {
            "text/plain": [
              "<Figure size 432x288 with 2 Axes>"
            ],
            "image/png": "[encoded data removed]"
          },
          "metadata": {}
        }
      ]
    },
    {
      "cell_type": "markdown",
      "source": [
        "### Prediction Using the testing set"
      ],
      "metadata": {
        "id": "N-dD_xCNsC82"
      }
    },
    {
      "cell_type": "code",
      "source": [
        "y_pred=logreg.predict(x_test)\n",
        "y_pred"
      ],
      "metadata": {
        "colab": {
          "base_uri": "https://localhost:8080/"
        },
        "id": "OLCdnM4ssPXz",
        "outputId": "1df1d4a9-7cd6-437e-9265-516335f4887a"
      },
      "execution_count": 58,
      "outputs": [
        {
          "output_type": "execute_result",
          "data": {
            "text/plain": [
              "array([0, 0, 0, 0, 1, 0, 1, 0, 1, 0, 0, 0, 1, 0, 1, 1, 0, 0, 1, 1, 0, 0,\n",
              "       1, 1, 1, 0, 1, 0, 0, 0, 0, 0, 0, 0, 0, 0, 1, 1, 0, 0, 0, 0, 0, 1,\n",
              "       1, 0, 0, 0, 1, 0, 0, 0, 1, 1, 0, 0, 0, 0, 0, 1, 0, 0, 0, 1, 1, 1,\n",
              "       1, 0, 1, 1, 1, 0, 1, 1, 1, 1, 0, 1, 0, 1, 0, 0, 0, 0, 0, 0, 1, 1,\n",
              "       1, 0, 1, 0, 1, 0, 1, 0, 1, 0, 1, 0, 1, 0, 0, 0, 1, 0, 0, 0, 0, 0,\n",
              "       0, 1, 1, 1, 1, 0, 0, 1, 1, 1, 1, 0, 1, 0, 0, 1, 0, 1, 0, 0, 0, 0,\n",
              "       1, 0, 0, 0, 0, 0, 1, 0, 0, 1, 0, 0, 0, 0, 0, 0, 0, 0, 1, 0, 0, 0,\n",
              "       0, 0, 1, 1, 0, 1, 1, 0, 1, 0, 0, 1, 0, 0, 1, 1, 0, 0, 0, 0, 0, 1,\n",
              "       1, 0, 1, 1, 0, 0, 1, 0, 1, 0, 1, 0, 0, 0, 0, 0, 0, 0, 0, 0, 1, 1,\n",
              "       0, 1, 1, 0, 0, 1, 0, 1, 1, 0, 1, 0, 0, 0, 0, 1, 0, 0, 1, 0, 1, 0,\n",
              "       1, 0, 1, 0, 1, 1, 0, 1, 0, 0, 0, 1, 0, 0, 0, 0, 0, 0, 1, 1, 1, 1,\n",
              "       0, 0, 0, 0, 1, 0, 1, 1, 1, 0, 1, 0, 0, 0, 0, 0, 1, 0, 0, 0, 1, 1,\n",
              "       0, 0, 0, 0, 1, 0, 0, 0, 1, 1, 0, 1, 0, 0, 0, 0, 1, 0, 1, 1, 1, 0,\n",
              "       0, 0, 0, 0, 0, 1, 0, 0, 0, 0, 1, 0, 0, 0, 0, 0, 0, 0, 1, 1, 0, 0,\n",
              "       0, 0, 0, 0, 0, 1, 1, 1, 0, 0, 0, 0, 0, 0, 0, 0, 1, 0, 1, 0, 0, 0,\n",
              "       1, 0, 0, 1, 0, 0, 0, 0, 0, 0, 0, 0, 0, 1, 0, 1, 0, 1, 0, 1, 1, 0,\n",
              "       0, 0, 1, 0, 1, 0, 0, 1, 0, 1, 1, 0, 1, 0, 0, 1, 1, 0, 0, 1, 0, 0,\n",
              "       1, 1, 1, 0, 0, 0, 0, 0, 1, 1, 0, 1, 0, 0, 0, 0, 1, 1, 0, 0, 0, 1,\n",
              "       0, 1, 0, 0, 1, 0, 1, 1, 0, 0, 0, 0, 1, 1, 1, 1, 1, 0, 1, 0, 0, 0])"
            ]
          },
          "metadata": {},
          "execution_count": 58
        }
      ]
    },
    {
      "cell_type": "markdown",
      "source": [
        "* Preparing the submission file"
      ],
      "metadata": {
        "id": "UEjjTRrHsycE"
      }
    },
    {
      "cell_type": "code",
      "source": [
        "sub=pd.read_csv(\"/content/titanic_data/gender_submission.csv\")\n",
        "Id=sub[\"PassengerId\"].to_numpy()\n",
        "submission=pd.DataFrame({\"PassengerId\":Id,\"Survived\":y_pred})\n",
        "submission.to_csv(\"submission.csv\")\n",
        "submission"
      ],
      "metadata": {
        "colab": {
          "base_uri": "https://localhost:8080/",
          "height": 424
        },
        "id": "-EGkfAYjuI6t",
        "outputId": "552af002-103a-4371-c842-9abc845f4860"
      },
      "execution_count": null,
      "outputs": [
        {
          "output_type": "execute_result",
          "data": {
            "text/plain": [
              "     PassengerId  Survived\n",
              "0            892         0\n",
              "1            893         0\n",
              "2            894         0\n",
              "3            895         0\n",
              "4            896         1\n",
              "..           ...       ...\n",
              "413         1305         0\n",
              "414         1306         1\n",
              "415         1307         0\n",
              "416         1308         0\n",
              "417         1309         0\n",
              "\n",
              "[418 rows x 2 columns]"
            ],
            "text/html": [
              "\n",
              "  <div id=\"df-763f0885-5c45-4135-a45a-eac8ce4e7834\">\n",
              "    <div class=\"colab-df-container\">\n",
              "      <div>\n",
              "<style scoped>\n",
              "    .dataframe tbody tr th:only-of-type {\n",
              "        vertical-align: middle;\n",
              "    }\n",
              "\n",
              "    .dataframe tbody tr th {\n",
              "        vertical-align: top;\n",
              "    }\n",
              "\n",
              "    .dataframe thead th {\n",
              "        text-align: right;\n",
              "    }\n",
              "</style>\n",
              "<table border=\"1\" class=\"dataframe\">\n",
              "  <thead>\n",
              "    <tr style=\"text-align: right;\">\n",
              "      <th></th>\n",
              "      <th>PassengerId</th>\n",
              "      <th>Survived</th>\n",
              "    </tr>\n",
              "  </thead>\n",
              "  <tbody>\n",
              "    <tr>\n",
              "      <th>0</th>\n",
              "      <td>892</td>\n",
              "      <td>0</td>\n",
              "    </tr>\n",
              "    <tr>\n",
              "      <th>1</th>\n",
              "      <td>893</td>\n",
              "      <td>0</td>\n",
              "    </tr>\n",
              "    <tr>\n",
              "      <th>2</th>\n",
              "      <td>894</td>\n",
              "      <td>0</td>\n",
              "    </tr>\n",
              "    <tr>\n",
              "      <th>3</th>\n",
              "      <td>895</td>\n",
              "      <td>0</td>\n",
              "    </tr>\n",
              "    <tr>\n",
              "      <th>4</th>\n",
              "      <td>896</td>\n",
              "      <td>1</td>\n",
              "    </tr>\n",
              "    <tr>\n",
              "      <th>...</th>\n",
              "      <td>...</td>\n",
              "      <td>...</td>\n",
              "    </tr>\n",
              "    <tr>\n",
              "      <th>413</th>\n",
              "      <td>1305</td>\n",
              "      <td>0</td>\n",
              "    </tr>\n",
              "    <tr>\n",
              "      <th>414</th>\n",
              "      <td>1306</td>\n",
              "      <td>1</td>\n",
              "    </tr>\n",
              "    <tr>\n",
              "      <th>415</th>\n",
              "      <td>1307</td>\n",
              "      <td>0</td>\n",
              "    </tr>\n",
              "    <tr>\n",
              "      <th>416</th>\n",
              "      <td>1308</td>\n",
              "      <td>0</td>\n",
              "    </tr>\n",
              "    <tr>\n",
              "      <th>417</th>\n",
              "      <td>1309</td>\n",
              "      <td>0</td>\n",
              "    </tr>\n",
              "  </tbody>\n",
              "</table>\n",
              "<p>418 rows × 2 columns</p>\n",
              "</div>\n",
              "      <button class=\"colab-df-convert\" onclick=\"convertToInteractive('df-763f0885-5c45-4135-a45a-eac8ce4e7834')\"\n",
              "              title=\"Convert this dataframe to an interactive table.\"\n",
              "              style=\"display:none;\">\n",
              "        \n",
              "  <svg xmlns=\"http://www.w3.org/2000/svg\" height=\"24px\"viewBox=\"0 0 24 24\"\n",
              "       width=\"24px\">\n",
              "    <path d=\"M0 0h24v24H0V0z\" fill=\"none\"/>\n",
              "    <path d=\"M18.56 5.44l.94 2.06.94-2.06 2.06-.94-2.06-.94-.94-2.06-.94 2.06-2.06.94zm-11 1L8.5 8.5l.94-2.06 2.06-.94-2.06-.94L8.5 2.5l-.94 2.06-2.06.94zm10 10l.94 2.06.94-2.06 2.06-.94-2.06-.94-.94-2.06-.94 2.06-2.06.94z\"/><path d=\"M17.41 7.96l-1.37-1.37c-.4-.4-.92-.59-1.43-.59-.52 0-1.04.2-1.43.59L10.3 9.45l-7.72 7.72c-.78.78-.78 2.05 0 2.83L4 21.41c.39.39.9.59 1.41.59.51 0 1.02-.2 1.41-.59l7.78-7.78 2.81-2.81c.8-.78.8-2.07 0-2.86zM5.41 20L4 18.59l7.72-7.72 1.47 1.35L5.41 20z\"/>\n",
              "  </svg>\n",
              "      </button>\n",
              "      \n",
              "  <style>\n",
              "    .colab-df-container {\n",
              "      display:flex;\n",
              "      flex-wrap:wrap;\n",
              "      gap: 12px;\n",
              "    }\n",
              "\n",
              "    .colab-df-convert {\n",
              "      background-color: #E8F0FE;\n",
              "      border: none;\n",
              "      border-radius: 50%;\n",
              "      cursor: pointer;\n",
              "      display: none;\n",
              "      fill: #1967D2;\n",
              "      height: 32px;\n",
              "      padding: 0 0 0 0;\n",
              "      width: 32px;\n",
              "    }\n",
              "\n",
              "    .colab-df-convert:hover {\n",
              "      background-color: #E2EBFA;\n",
              "      box-shadow: 0px 1px 2px rgba(60, 64, 67, 0.3), 0px 1px 3px 1px rgba(60, 64, 67, 0.15);\n",
              "      fill: #174EA6;\n",
              "    }\n",
              "\n",
              "    [theme=dark] .colab-df-convert {\n",
              "      background-color: #3B4455;\n",
              "      fill: #D2E3FC;\n",
              "    }\n",
              "\n",
              "    [theme=dark] .colab-df-convert:hover {\n",
              "      background-color: #434B5C;\n",
              "      box-shadow: 0px 1px 3px 1px rgba(0, 0, 0, 0.15);\n",
              "      filter: drop-shadow(0px 1px 2px rgba(0, 0, 0, 0.3));\n",
              "      fill: #FFFFFF;\n",
              "    }\n",
              "  </style>\n",
              "\n",
              "      <script>\n",
              "        const buttonEl =\n",
              "          document.querySelector('#df-763f0885-5c45-4135-a45a-eac8ce4e7834 button.colab-df-convert');\n",
              "        buttonEl.style.display =\n",
              "          google.colab.kernel.accessAllowed ? 'block' : 'none';\n",
              "\n",
              "        async function convertToInteractive(key) {\n",
              "          const element = document.querySelector('#df-763f0885-5c45-4135-a45a-eac8ce4e7834');\n",
              "          const dataTable =\n",
              "            await google.colab.kernel.invokeFunction('convertToInteractive',\n",
              "                                                     [key], {});\n",
              "          if (!dataTable) return;\n",
              "\n",
              "          const docLinkHtml = 'Like what you see? Visit the ' +\n",
              "            '<a target=\"_blank\" href=https://colab.research.google.com/notebooks/data_table.ipynb>data table notebook</a>'\n",
              "            + ' to learn more about interactive tables.';\n",
              "          element.innerHTML = '';\n",
              "          dataTable['output_type'] = 'display_data';\n",
              "          await google.colab.output.renderOutput(dataTable, element);\n",
              "          const docLink = document.createElement('div');\n",
              "          docLink.innerHTML = docLinkHtml;\n",
              "          element.appendChild(docLink);\n",
              "        }\n",
              "      </script>\n",
              "    </div>\n",
              "  </div>\n",
              "  "
            ]
          },
          "metadata": {},
          "execution_count": 103
        }
      ]
    }
  ]
}