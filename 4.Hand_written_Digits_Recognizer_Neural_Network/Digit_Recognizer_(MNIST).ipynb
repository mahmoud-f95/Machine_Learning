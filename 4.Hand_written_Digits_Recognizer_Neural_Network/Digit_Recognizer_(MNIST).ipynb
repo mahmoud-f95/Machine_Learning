{
  "nbformat": 4,
  "nbformat_minor": 0,
  "metadata": {
    "colab": {
      "provenance": [],
      "collapsed_sections": []
    },
    "kernelspec": {
      "name": "python3",
      "display_name": "Python 3"
    },
    "language_info": {
      "name": "python"
    }
  },
  "cells": [
    {
      "cell_type": "markdown",
      "source": [
        "## Digit Recognizer (MNIST)"
      ],
      "metadata": {
        "id": "BjRQ0Pri-Gjn"
      }
    },
    {
      "cell_type": "markdown",
      "source": [
        "###Description\n",
        "MNIST (\"Modified National Institute of Standards and Technology\") is the de facto “hello world” dataset of computer vision. Since its release in 1999, this classic dataset of handwritten images has served as the basis for benchmarking classification algorithms. As new machine learning techniques emerge, MNIST remains a reliable resource for researchers and learners alike."
      ],
      "metadata": {
        "id": "YYcCXLMB-X1V"
      }
    },
    {
      "cell_type": "markdown",
      "source": [
        "### importing libraries"
      ],
      "metadata": {
        "id": "Jl_hRZ4rCMl1"
      }
    },
    {
      "cell_type": "code",
      "source": [
        "import pandas as pd\n",
        "import numpy as np\n",
        "import matplotlib.pyplot as plt\n",
        "import seaborn as sns\n",
        "import tensorflow as tf\n",
        "from tensorflow.keras.models import Sequential\n",
        "from tensorflow.keras.layers import Dense\n",
        "from tensorflow.keras.activations import linear, relu, sigmoid\n",
        "import logging\n",
        "logging.getLogger(\"tensorflow\").setLevel(logging.ERROR)\n",
        "tf.autograph.set_verbosity(0)"
      ],
      "metadata": {
        "id": "pBGt-HoVCP-Y"
      },
      "execution_count": 1,
      "outputs": []
    },
    {
      "cell_type": "markdown",
      "source": [
        "### Importing the data"
      ],
      "metadata": {
        "id": "TY1vYTJb-ulX"
      }
    },
    {
      "cell_type": "code",
      "source": [
        "! pip install -q kaggle\n",
        "from google.colab import files\n",
        "files.upload()"
      ],
      "metadata": {
        "id": "6mBF8AhZ-UNM"
      },
      "execution_count": null,
      "outputs": []
    },
    {
      "cell_type": "code",
      "source": [
        "! mkdir ~/.kaggle\n",
        "! cp kaggle.json ~/.kaggle/"
      ],
      "metadata": {
        "id": "IJ0XBPBBA20Q"
      },
      "execution_count": 3,
      "outputs": []
    },
    {
      "cell_type": "code",
      "source": [
        "! chmod 600 ~/.kaggle/kaggle.json"
      ],
      "metadata": {
        "id": "BJokBFpNBDBR"
      },
      "execution_count": 4,
      "outputs": []
    },
    {
      "cell_type": "code",
      "source": [
        "! kaggle competitions download -c digit-recognizer"
      ],
      "metadata": {
        "colab": {
          "base_uri": "https://localhost:8080/"
        },
        "id": "SQdxxULeBGS6",
        "outputId": "d3c454b5-a899-4f02-e303-dcb36f5439a1"
      },
      "execution_count": 5,
      "outputs": [
        {
          "output_type": "stream",
          "name": "stdout",
          "text": [
            "Downloading digit-recognizer.zip to /content\n",
            "\r  0% 0.00/15.3M [00:00<?, ?B/s]\n",
            "\r100% 15.3M/15.3M [00:00<00:00, 172MB/s]\n"
          ]
        }
      ]
    },
    {
      "cell_type": "code",
      "source": [
        "! mkdir data "
      ],
      "metadata": {
        "id": "yYkAS8QNBdcL"
      },
      "execution_count": 6,
      "outputs": []
    },
    {
      "cell_type": "code",
      "source": [
        "! unzip digit-recognizer.zip -d data "
      ],
      "metadata": {
        "colab": {
          "base_uri": "https://localhost:8080/"
        },
        "id": "mkkmeoK7BpSq",
        "outputId": "a882455e-bea8-46a9-f5de-405db77eb916"
      },
      "execution_count": 7,
      "outputs": [
        {
          "output_type": "stream",
          "name": "stdout",
          "text": [
            "Archive:  digit-recognizer.zip\n",
            "  inflating: data/sample_submission.csv  \n",
            "  inflating: data/test.csv           \n",
            "  inflating: data/train.csv          \n"
          ]
        }
      ]
    },
    {
      "cell_type": "code",
      "source": [
        "training_set=pd.read_csv(\"/content/data/train.csv\")\n",
        "training_set.head(5)"
      ],
      "metadata": {
        "colab": {
          "base_uri": "https://localhost:8080/",
          "height": 300
        },
        "id": "FzauJ3o7CA4e",
        "outputId": "d74accda-d8d3-450a-c4ed-0bd91c56f538"
      },
      "execution_count": 8,
      "outputs": [
        {
          "output_type": "execute_result",
          "data": {
            "text/plain": [
              "   label  pixel0  pixel1  pixel2  pixel3  pixel4  pixel5  pixel6  pixel7  \\\n",
              "0      1       0       0       0       0       0       0       0       0   \n",
              "1      0       0       0       0       0       0       0       0       0   \n",
              "2      1       0       0       0       0       0       0       0       0   \n",
              "3      4       0       0       0       0       0       0       0       0   \n",
              "4      0       0       0       0       0       0       0       0       0   \n",
              "\n",
              "   pixel8  ...  pixel774  pixel775  pixel776  pixel777  pixel778  pixel779  \\\n",
              "0       0  ...         0         0         0         0         0         0   \n",
              "1       0  ...         0         0         0         0         0         0   \n",
              "2       0  ...         0         0         0         0         0         0   \n",
              "3       0  ...         0         0         0         0         0         0   \n",
              "4       0  ...         0         0         0         0         0         0   \n",
              "\n",
              "   pixel780  pixel781  pixel782  pixel783  \n",
              "0         0         0         0         0  \n",
              "1         0         0         0         0  \n",
              "2         0         0         0         0  \n",
              "3         0         0         0         0  \n",
              "4         0         0         0         0  \n",
              "\n",
              "[5 rows x 785 columns]"
            ],
            "text/html": [
              "\n",
              "  <div id=\"df-ad41d1e0-f16b-416c-9bfd-50fa18786b6a\">\n",
              "    <div class=\"colab-df-container\">\n",
              "      <div>\n",
              "<style scoped>\n",
              "    .dataframe tbody tr th:only-of-type {\n",
              "        vertical-align: middle;\n",
              "    }\n",
              "\n",
              "    .dataframe tbody tr th {\n",
              "        vertical-align: top;\n",
              "    }\n",
              "\n",
              "    .dataframe thead th {\n",
              "        text-align: right;\n",
              "    }\n",
              "</style>\n",
              "<table border=\"1\" class=\"dataframe\">\n",
              "  <thead>\n",
              "    <tr style=\"text-align: right;\">\n",
              "      <th></th>\n",
              "      <th>label</th>\n",
              "      <th>pixel0</th>\n",
              "      <th>pixel1</th>\n",
              "      <th>pixel2</th>\n",
              "      <th>pixel3</th>\n",
              "      <th>pixel4</th>\n",
              "      <th>pixel5</th>\n",
              "      <th>pixel6</th>\n",
              "      <th>pixel7</th>\n",
              "      <th>pixel8</th>\n",
              "      <th>...</th>\n",
              "      <th>pixel774</th>\n",
              "      <th>pixel775</th>\n",
              "      <th>pixel776</th>\n",
              "      <th>pixel777</th>\n",
              "      <th>pixel778</th>\n",
              "      <th>pixel779</th>\n",
              "      <th>pixel780</th>\n",
              "      <th>pixel781</th>\n",
              "      <th>pixel782</th>\n",
              "      <th>pixel783</th>\n",
              "    </tr>\n",
              "  </thead>\n",
              "  <tbody>\n",
              "    <tr>\n",
              "      <th>0</th>\n",
              "      <td>1</td>\n",
              "      <td>0</td>\n",
              "      <td>0</td>\n",
              "      <td>0</td>\n",
              "      <td>0</td>\n",
              "      <td>0</td>\n",
              "      <td>0</td>\n",
              "      <td>0</td>\n",
              "      <td>0</td>\n",
              "      <td>0</td>\n",
              "      <td>...</td>\n",
              "      <td>0</td>\n",
              "      <td>0</td>\n",
              "      <td>0</td>\n",
              "      <td>0</td>\n",
              "      <td>0</td>\n",
              "      <td>0</td>\n",
              "      <td>0</td>\n",
              "      <td>0</td>\n",
              "      <td>0</td>\n",
              "      <td>0</td>\n",
              "    </tr>\n",
              "    <tr>\n",
              "      <th>1</th>\n",
              "      <td>0</td>\n",
              "      <td>0</td>\n",
              "      <td>0</td>\n",
              "      <td>0</td>\n",
              "      <td>0</td>\n",
              "      <td>0</td>\n",
              "      <td>0</td>\n",
              "      <td>0</td>\n",
              "      <td>0</td>\n",
              "      <td>0</td>\n",
              "      <td>...</td>\n",
              "      <td>0</td>\n",
              "      <td>0</td>\n",
              "      <td>0</td>\n",
              "      <td>0</td>\n",
              "      <td>0</td>\n",
              "      <td>0</td>\n",
              "      <td>0</td>\n",
              "      <td>0</td>\n",
              "      <td>0</td>\n",
              "      <td>0</td>\n",
              "    </tr>\n",
              "    <tr>\n",
              "      <th>2</th>\n",
              "      <td>1</td>\n",
              "      <td>0</td>\n",
              "      <td>0</td>\n",
              "      <td>0</td>\n",
              "      <td>0</td>\n",
              "      <td>0</td>\n",
              "      <td>0</td>\n",
              "      <td>0</td>\n",
              "      <td>0</td>\n",
              "      <td>0</td>\n",
              "      <td>...</td>\n",
              "      <td>0</td>\n",
              "      <td>0</td>\n",
              "      <td>0</td>\n",
              "      <td>0</td>\n",
              "      <td>0</td>\n",
              "      <td>0</td>\n",
              "      <td>0</td>\n",
              "      <td>0</td>\n",
              "      <td>0</td>\n",
              "      <td>0</td>\n",
              "    </tr>\n",
              "    <tr>\n",
              "      <th>3</th>\n",
              "      <td>4</td>\n",
              "      <td>0</td>\n",
              "      <td>0</td>\n",
              "      <td>0</td>\n",
              "      <td>0</td>\n",
              "      <td>0</td>\n",
              "      <td>0</td>\n",
              "      <td>0</td>\n",
              "      <td>0</td>\n",
              "      <td>0</td>\n",
              "      <td>...</td>\n",
              "      <td>0</td>\n",
              "      <td>0</td>\n",
              "      <td>0</td>\n",
              "      <td>0</td>\n",
              "      <td>0</td>\n",
              "      <td>0</td>\n",
              "      <td>0</td>\n",
              "      <td>0</td>\n",
              "      <td>0</td>\n",
              "      <td>0</td>\n",
              "    </tr>\n",
              "    <tr>\n",
              "      <th>4</th>\n",
              "      <td>0</td>\n",
              "      <td>0</td>\n",
              "      <td>0</td>\n",
              "      <td>0</td>\n",
              "      <td>0</td>\n",
              "      <td>0</td>\n",
              "      <td>0</td>\n",
              "      <td>0</td>\n",
              "      <td>0</td>\n",
              "      <td>0</td>\n",
              "      <td>...</td>\n",
              "      <td>0</td>\n",
              "      <td>0</td>\n",
              "      <td>0</td>\n",
              "      <td>0</td>\n",
              "      <td>0</td>\n",
              "      <td>0</td>\n",
              "      <td>0</td>\n",
              "      <td>0</td>\n",
              "      <td>0</td>\n",
              "      <td>0</td>\n",
              "    </tr>\n",
              "  </tbody>\n",
              "</table>\n",
              "<p>5 rows × 785 columns</p>\n",
              "</div>\n",
              "      <button class=\"colab-df-convert\" onclick=\"convertToInteractive('df-ad41d1e0-f16b-416c-9bfd-50fa18786b6a')\"\n",
              "              title=\"Convert this dataframe to an interactive table.\"\n",
              "              style=\"display:none;\">\n",
              "        \n",
              "  <svg xmlns=\"http://www.w3.org/2000/svg\" height=\"24px\"viewBox=\"0 0 24 24\"\n",
              "       width=\"24px\">\n",
              "    <path d=\"M0 0h24v24H0V0z\" fill=\"none\"/>\n",
              "    <path d=\"M18.56 5.44l.94 2.06.94-2.06 2.06-.94-2.06-.94-.94-2.06-.94 2.06-2.06.94zm-11 1L8.5 8.5l.94-2.06 2.06-.94-2.06-.94L8.5 2.5l-.94 2.06-2.06.94zm10 10l.94 2.06.94-2.06 2.06-.94-2.06-.94-.94-2.06-.94 2.06-2.06.94z\"/><path d=\"M17.41 7.96l-1.37-1.37c-.4-.4-.92-.59-1.43-.59-.52 0-1.04.2-1.43.59L10.3 9.45l-7.72 7.72c-.78.78-.78 2.05 0 2.83L4 21.41c.39.39.9.59 1.41.59.51 0 1.02-.2 1.41-.59l7.78-7.78 2.81-2.81c.8-.78.8-2.07 0-2.86zM5.41 20L4 18.59l7.72-7.72 1.47 1.35L5.41 20z\"/>\n",
              "  </svg>\n",
              "      </button>\n",
              "      \n",
              "  <style>\n",
              "    .colab-df-container {\n",
              "      display:flex;\n",
              "      flex-wrap:wrap;\n",
              "      gap: 12px;\n",
              "    }\n",
              "\n",
              "    .colab-df-convert {\n",
              "      background-color: #E8F0FE;\n",
              "      border: none;\n",
              "      border-radius: 50%;\n",
              "      cursor: pointer;\n",
              "      display: none;\n",
              "      fill: #1967D2;\n",
              "      height: 32px;\n",
              "      padding: 0 0 0 0;\n",
              "      width: 32px;\n",
              "    }\n",
              "\n",
              "    .colab-df-convert:hover {\n",
              "      background-color: #E2EBFA;\n",
              "      box-shadow: 0px 1px 2px rgba(60, 64, 67, 0.3), 0px 1px 3px 1px rgba(60, 64, 67, 0.15);\n",
              "      fill: #174EA6;\n",
              "    }\n",
              "\n",
              "    [theme=dark] .colab-df-convert {\n",
              "      background-color: #3B4455;\n",
              "      fill: #D2E3FC;\n",
              "    }\n",
              "\n",
              "    [theme=dark] .colab-df-convert:hover {\n",
              "      background-color: #434B5C;\n",
              "      box-shadow: 0px 1px 3px 1px rgba(0, 0, 0, 0.15);\n",
              "      filter: drop-shadow(0px 1px 2px rgba(0, 0, 0, 0.3));\n",
              "      fill: #FFFFFF;\n",
              "    }\n",
              "  </style>\n",
              "\n",
              "      <script>\n",
              "        const buttonEl =\n",
              "          document.querySelector('#df-ad41d1e0-f16b-416c-9bfd-50fa18786b6a button.colab-df-convert');\n",
              "        buttonEl.style.display =\n",
              "          google.colab.kernel.accessAllowed ? 'block' : 'none';\n",
              "\n",
              "        async function convertToInteractive(key) {\n",
              "          const element = document.querySelector('#df-ad41d1e0-f16b-416c-9bfd-50fa18786b6a');\n",
              "          const dataTable =\n",
              "            await google.colab.kernel.invokeFunction('convertToInteractive',\n",
              "                                                     [key], {});\n",
              "          if (!dataTable) return;\n",
              "\n",
              "          const docLinkHtml = 'Like what you see? Visit the ' +\n",
              "            '<a target=\"_blank\" href=https://colab.research.google.com/notebooks/data_table.ipynb>data table notebook</a>'\n",
              "            + ' to learn more about interactive tables.';\n",
              "          element.innerHTML = '';\n",
              "          dataTable['output_type'] = 'display_data';\n",
              "          await google.colab.output.renderOutput(dataTable, element);\n",
              "          const docLink = document.createElement('div');\n",
              "          docLink.innerHTML = docLinkHtml;\n",
              "          element.appendChild(docLink);\n",
              "        }\n",
              "      </script>\n",
              "    </div>\n",
              "  </div>\n",
              "  "
            ]
          },
          "metadata": {},
          "execution_count": 8
        }
      ]
    },
    {
      "cell_type": "code",
      "source": [
        "training_set.shape"
      ],
      "metadata": {
        "colab": {
          "base_uri": "https://localhost:8080/"
        },
        "id": "aDWzCjz_DhXR",
        "outputId": "54b630d6-37ca-4ba8-c461-79fa02faa7c3"
      },
      "execution_count": 9,
      "outputs": [
        {
          "output_type": "execute_result",
          "data": {
            "text/plain": [
              "(42000, 785)"
            ]
          },
          "metadata": {},
          "execution_count": 9
        }
      ]
    },
    {
      "cell_type": "markdown",
      "source": [
        "### EDA"
      ],
      "metadata": {
        "id": "PFn6D1AneiV1"
      }
    },
    {
      "cell_type": "markdown",
      "source": [
        "* The numbers frequency"
      ],
      "metadata": {
        "id": "90SWReYVesK3"
      }
    },
    {
      "cell_type": "code",
      "source": [
        "sns.countplot(data=training_set,x=\"label\")\n",
        "plt.title(\"numbers distribution\")"
      ],
      "metadata": {
        "colab": {
          "base_uri": "https://localhost:8080/",
          "height": 312
        },
        "id": "4FNAmUCWelGc",
        "outputId": "ed415bb1-c1a8-4866-c4dc-3ec5e0c3709d"
      },
      "execution_count": 10,
      "outputs": [
        {
          "output_type": "execute_result",
          "data": {
            "text/plain": [
              "Text(0.5, 1.0, 'numbers distribution')"
            ]
          },
          "metadata": {},
          "execution_count": 10
        },
        {
          "output_type": "display_data",
          "data": {
            "text/plain": [
              "<Figure size 432x288 with 1 Axes>"
            ],
            "image/png": "[encoded data removed]"
          },
          "metadata": {
            "needs_background": "light"
          }
        }
      ]
    },
    {
      "cell_type": "markdown",
      "source": [
        "### Data Preprocessing"
      ],
      "metadata": {
        "id": "C9KDearoiOFx"
      }
    },
    {
      "cell_type": "code",
      "source": [
        "x_train=training_set.drop(columns=[\"label\"])\n",
        "y_train=training_set[\"label\"]"
      ],
      "metadata": {
        "id": "LT4Q4Ja5iZ73"
      },
      "execution_count": 11,
      "outputs": []
    },
    {
      "cell_type": "code",
      "source": [
        "X_train,Y_train=x_train.to_numpy(),y_train.to_numpy()"
      ],
      "metadata": {
        "id": "nrZ9UvqTiwxj"
      },
      "execution_count": 12,
      "outputs": []
    },
    {
      "cell_type": "code",
      "source": [
        "X_train.shape,Y_train.shape"
      ],
      "metadata": {
        "colab": {
          "base_uri": "https://localhost:8080/"
        },
        "id": "uwYG5Rowl3nr",
        "outputId": "03269efb-2c08-46ca-ec30-23273f267a2d"
      },
      "execution_count": 13,
      "outputs": [
        {
          "output_type": "execute_result",
          "data": {
            "text/plain": [
              "((42000, 784), (42000,))"
            ]
          },
          "metadata": {},
          "execution_count": 13
        }
      ]
    },
    {
      "cell_type": "markdown",
      "source": [
        "### Data Visualization"
      ],
      "metadata": {
        "id": "kIex27FYgy5d"
      }
    },
    {
      "cell_type": "code",
      "source": [
        "import warnings\n",
        "warnings.simplefilter(action='ignore', category=FutureWarning)\n",
        "# You do not need to modify anything in this cell\n",
        "\n",
        "m, n = X_train.shape\n",
        "\n",
        "fig, axes = plt.subplots(8,8, figsize=(8,8))\n",
        "fig.tight_layout(pad=0.1)\n",
        "\n",
        "for i,ax in enumerate(axes.flat):\n",
        "    # Select random indices\n",
        "    random_index = np.random.randint(m)\n",
        "    \n",
        "    # Select rows corresponding to the random indices and\n",
        "    # reshape the image\n",
        "    X_random_reshaped = X_train[random_index].reshape((28,28)).T\n",
        "    \n",
        "    # Display the image\n",
        "    ax.imshow(X_random_reshaped, cmap='gray')\n",
        "    \n",
        "    # Display the label above the image\n",
        "    ax.set_title(Y_train[random_index])\n",
        "    ax.set_axis_off()"
      ],
      "metadata": {
        "colab": {
          "base_uri": "https://localhost:8080/",
          "height": 595
        },
        "id": "VXJx8e5yg4iY",
        "outputId": "16c5c806-82fc-40b7-f16d-3d89141c0f8d"
      },
      "execution_count": 14,
      "outputs": [
        {
          "output_type": "display_data",
          "data": {
            "text/plain": [
              "<Figure size 576x576 with 64 Axes>"
            ],
            "image/png": "[encoded data removed]"
          },
          "metadata": {
            "needs_background": "light"
          }
        }
      ]
    },
    {
      "cell_type": "markdown",
      "source": [
        "### Building the Neural Network"
      ],
      "metadata": {
        "id": "AblnBeMQsdAG"
      }
    },
    {
      "cell_type": "code",
      "source": [
        "tf.random.set_seed(1234) # for consistent results\n",
        "model = Sequential(\n",
        "    [               \n",
        "        tf.keras.Input(shape=(784,)),\n",
        "        Dense(units=40,activation='relu'),\n",
        "        Dense(units=25,activation='relu'),\n",
        "        Dense(units=10,activation='linear')\n",
        " \n",
        "    ], name = \"my_model\" \n",
        ")"
      ],
      "metadata": {
        "id": "Am_5BOGksjxJ"
      },
      "execution_count": 33,
      "outputs": []
    },
    {
      "cell_type": "code",
      "source": [
        "model.summary()"
      ],
      "metadata": {
        "colab": {
          "base_uri": "https://localhost:8080/"
        },
        "id": "VF4YQSovRmru",
        "outputId": "d5b6edef-73b8-4b97-c53a-6197b7d5b686"
      },
      "execution_count": 34,
      "outputs": [
        {
          "output_type": "stream",
          "name": "stdout",
          "text": [
            "Model: \"my_model\"\n",
            "_________________________________________________________________\n",
            " Layer (type)                Output Shape              Param #   \n",
            "=================================================================\n",
            " dense_6 (Dense)             (None, 40)                31400     \n",
            "                                                                 \n",
            " dense_7 (Dense)             (None, 25)                1025      \n",
            "                                                                 \n",
            " dense_8 (Dense)             (None, 10)                260       \n",
            "                                                                 \n",
            "=================================================================\n",
            "Total params: 32,685\n",
            "Trainable params: 32,685\n",
            "Non-trainable params: 0\n",
            "_________________________________________________________________\n"
          ]
        }
      ]
    },
    {
      "cell_type": "code",
      "source": [
        "[layer1, layer2, layer3] = model.layers"
      ],
      "metadata": {
        "id": "jvGmt7lyRyOz"
      },
      "execution_count": 35,
      "outputs": []
    },
    {
      "cell_type": "code",
      "source": [
        "#### Examine Weights shapes\n",
        "W1,b1 = layer1.get_weights()\n",
        "W2,b2 = layer2.get_weights()\n",
        "W3,b3 = layer3.get_weights()\n",
        "print(f\"W1 shape = {W1.shape}, b1 shape = {b1.shape}\")\n",
        "print(f\"W2 shape = {W2.shape}, b2 shape = {b2.shape}\")\n",
        "print(f\"W3 shape = {W3.shape}, b3 shape = {b3.shape}\")"
      ],
      "metadata": {
        "colab": {
          "base_uri": "https://localhost:8080/"
        },
        "id": "tkmvENlWR0Zn",
        "outputId": "e11bd60e-68d4-4cc2-96ea-1768c6a40f51"
      },
      "execution_count": 36,
      "outputs": [
        {
          "output_type": "stream",
          "name": "stdout",
          "text": [
            "W1 shape = (784, 40), b1 shape = (40,)\n",
            "W2 shape = (40, 25), b2 shape = (25,)\n",
            "W3 shape = (25, 10), b3 shape = (10,)\n"
          ]
        }
      ]
    },
    {
      "cell_type": "markdown",
      "source": [
        "### Model Training"
      ],
      "metadata": {
        "id": "ARpyC1dmSKzL"
      }
    },
    {
      "cell_type": "code",
      "source": [
        "model.compile(\n",
        "    loss=tf.keras.losses.SparseCategoricalCrossentropy(from_logits=True),\n",
        "    optimizer=tf.keras.optimizers.Adam(learning_rate=0.001),\n",
        ")\n",
        "\n",
        "history = model.fit(\n",
        "    X_train,Y_train,\n",
        "    epochs=100\n",
        ")"
      ],
      "metadata": {
        "colab": {
          "base_uri": "https://localhost:8080/"
        },
        "id": "JXrPfs0ASSXE",
        "outputId": "ddc28b89-ba10-4610-9c9b-a051717bfea8"
      },
      "execution_count": 37,
      "outputs": [
        {
          "output_type": "stream",
          "name": "stdout",
          "text": [
            "Epoch 1/100\n",
            "1313/1313 [==============================] - 3s 2ms/step - loss: 2.3277\n",
            "Epoch 2/100\n",
            "1313/1313 [==============================] - 3s 2ms/step - loss: 0.6247\n",
            "Epoch 3/100\n",
            "1313/1313 [==============================] - 3s 2ms/step - loss: 0.4311\n",
            "Epoch 4/100\n",
            "1313/1313 [==============================] - 3s 2ms/step - loss: 0.3221\n",
            "Epoch 5/100\n",
            "1313/1313 [==============================] - 3s 2ms/step - loss: 0.2611\n",
            "Epoch 6/100\n",
            "1313/1313 [==============================] - 3s 2ms/step - loss: 0.2315\n",
            "Epoch 7/100\n",
            "1313/1313 [==============================] - 3s 2ms/step - loss: 0.1980\n",
            "Epoch 8/100\n",
            "1313/1313 [==============================] - 3s 2ms/step - loss: 0.1761\n",
            "Epoch 9/100\n",
            "1313/1313 [==============================] - 3s 2ms/step - loss: 0.1702\n",
            "Epoch 10/100\n",
            "1313/1313 [==============================] - 3s 2ms/step - loss: 0.1512\n",
            "Epoch 11/100\n",
            "1313/1313 [==============================] - 3s 2ms/step - loss: 0.1397\n",
            "Epoch 12/100\n",
            "1313/1313 [==============================] - 3s 2ms/step - loss: 0.1326\n",
            "Epoch 13/100\n",
            "1313/1313 [==============================] - 3s 2ms/step - loss: 0.1284\n",
            "Epoch 14/100\n",
            "1313/1313 [==============================] - 3s 2ms/step - loss: 0.1197\n",
            "Epoch 15/100\n",
            "1313/1313 [==============================] - 3s 2ms/step - loss: 0.1166\n",
            "Epoch 16/100\n",
            "1313/1313 [==============================] - 3s 2ms/step - loss: 0.1147\n",
            "Epoch 17/100\n",
            "1313/1313 [==============================] - 3s 2ms/step - loss: 0.1025\n",
            "Epoch 18/100\n",
            "1313/1313 [==============================] - 3s 2ms/step - loss: 0.1014\n",
            "Epoch 19/100\n",
            "1313/1313 [==============================] - 3s 2ms/step - loss: 0.1013\n",
            "Epoch 20/100\n",
            "1313/1313 [==============================] - 3s 2ms/step - loss: 0.0918\n",
            "Epoch 21/100\n",
            "1313/1313 [==============================] - 3s 2ms/step - loss: 0.0945\n",
            "Epoch 22/100\n",
            "1313/1313 [==============================] - 3s 2ms/step - loss: 0.0915\n",
            "Epoch 23/100\n",
            "1313/1313 [==============================] - 3s 2ms/step - loss: 0.0861\n",
            "Epoch 24/100\n",
            "1313/1313 [==============================] - 3s 2ms/step - loss: 0.0858\n",
            "Epoch 25/100\n",
            "1313/1313 [==============================] - 3s 2ms/step - loss: 0.0870\n",
            "Epoch 26/100\n",
            "1313/1313 [==============================] - 3s 2ms/step - loss: 0.0831\n",
            "Epoch 27/100\n",
            "1313/1313 [==============================] - 4s 3ms/step - loss: 0.0800\n",
            "Epoch 28/100\n",
            "1313/1313 [==============================] - 3s 2ms/step - loss: 0.0732\n",
            "Epoch 29/100\n",
            "1313/1313 [==============================] - 3s 2ms/step - loss: 0.0777\n",
            "Epoch 30/100\n",
            "1313/1313 [==============================] - 3s 2ms/step - loss: 0.0753\n",
            "Epoch 31/100\n",
            "1313/1313 [==============================] - 3s 2ms/step - loss: 0.0722\n",
            "Epoch 32/100\n",
            "1313/1313 [==============================] - 3s 2ms/step - loss: 0.0734\n",
            "Epoch 33/100\n",
            "1313/1313 [==============================] - 3s 2ms/step - loss: 0.0696\n",
            "Epoch 34/100\n",
            "1313/1313 [==============================] - 4s 3ms/step - loss: 0.0710\n",
            "Epoch 35/100\n",
            "1313/1313 [==============================] - 3s 2ms/step - loss: 0.0702\n",
            "Epoch 36/100\n",
            "1313/1313 [==============================] - 3s 2ms/step - loss: 0.0653\n",
            "Epoch 37/100\n",
            "1313/1313 [==============================] - 3s 2ms/step - loss: 0.0673\n",
            "Epoch 38/100\n",
            "1313/1313 [==============================] - 3s 2ms/step - loss: 0.0678\n",
            "Epoch 39/100\n",
            "1313/1313 [==============================] - 3s 2ms/step - loss: 0.0642\n",
            "Epoch 40/100\n",
            "1313/1313 [==============================] - 3s 2ms/step - loss: 0.0635\n",
            "Epoch 41/100\n",
            "1313/1313 [==============================] - 3s 2ms/step - loss: 0.0622\n",
            "Epoch 42/100\n",
            "1313/1313 [==============================] - 3s 2ms/step - loss: 0.0606\n",
            "Epoch 43/100\n",
            "1313/1313 [==============================] - 3s 2ms/step - loss: 0.0655\n",
            "Epoch 44/100\n",
            "1313/1313 [==============================] - 3s 2ms/step - loss: 0.0579\n",
            "Epoch 45/100\n",
            "1313/1313 [==============================] - 3s 2ms/step - loss: 0.0575\n",
            "Epoch 46/100\n",
            "1313/1313 [==============================] - 3s 2ms/step - loss: 0.0576\n",
            "Epoch 47/100\n",
            "1313/1313 [==============================] - 3s 2ms/step - loss: 0.0626\n",
            "Epoch 48/100\n",
            "1313/1313 [==============================] - 3s 2ms/step - loss: 0.0613\n",
            "Epoch 49/100\n",
            "1313/1313 [==============================] - 3s 2ms/step - loss: 0.0558\n",
            "Epoch 50/100\n",
            "1313/1313 [==============================] - 3s 2ms/step - loss: 0.0517\n",
            "Epoch 51/100\n",
            "1313/1313 [==============================] - 3s 2ms/step - loss: 0.0625\n",
            "Epoch 52/100\n",
            "1313/1313 [==============================] - 3s 2ms/step - loss: 0.0533\n",
            "Epoch 53/100\n",
            "1313/1313 [==============================] - 3s 2ms/step - loss: 0.0575\n",
            "Epoch 54/100\n",
            "1313/1313 [==============================] - 3s 2ms/step - loss: 0.0531\n",
            "Epoch 55/100\n",
            "1313/1313 [==============================] - 3s 2ms/step - loss: 0.0628\n",
            "Epoch 56/100\n",
            "1313/1313 [==============================] - 3s 2ms/step - loss: 0.0546\n",
            "Epoch 57/100\n",
            "1313/1313 [==============================] - 3s 2ms/step - loss: 0.0532\n",
            "Epoch 58/100\n",
            "1313/1313 [==============================] - 3s 2ms/step - loss: 0.0498\n",
            "Epoch 59/100\n",
            "1313/1313 [==============================] - 3s 2ms/step - loss: 0.0556\n",
            "Epoch 60/100\n",
            "1313/1313 [==============================] - 3s 2ms/step - loss: 0.0583\n",
            "Epoch 61/100\n",
            "1313/1313 [==============================] - 3s 2ms/step - loss: 0.0478\n",
            "Epoch 62/100\n",
            "1313/1313 [==============================] - 3s 2ms/step - loss: 0.0538\n",
            "Epoch 63/100\n",
            "1313/1313 [==============================] - 3s 2ms/step - loss: 0.0512\n",
            "Epoch 64/100\n",
            "1313/1313 [==============================] - 3s 2ms/step - loss: 0.0495\n",
            "Epoch 65/100\n",
            "1313/1313 [==============================] - 3s 2ms/step - loss: 0.0564\n",
            "Epoch 66/100\n",
            "1313/1313 [==============================] - 3s 2ms/step - loss: 0.0528\n",
            "Epoch 67/100\n",
            "1313/1313 [==============================] - 3s 2ms/step - loss: 0.0465\n",
            "Epoch 68/100\n",
            "1313/1313 [==============================] - 3s 2ms/step - loss: 0.0563\n",
            "Epoch 69/100\n",
            "1313/1313 [==============================] - 3s 2ms/step - loss: 0.0505\n",
            "Epoch 70/100\n",
            "1313/1313 [==============================] - 3s 2ms/step - loss: 0.0490\n",
            "Epoch 71/100\n",
            "1313/1313 [==============================] - 3s 2ms/step - loss: 0.0495\n",
            "Epoch 72/100\n",
            "1313/1313 [==============================] - 3s 2ms/step - loss: 0.0480\n",
            "Epoch 73/100\n",
            "1313/1313 [==============================] - 3s 2ms/step - loss: 0.0594\n",
            "Epoch 74/100\n",
            "1313/1313 [==============================] - 3s 2ms/step - loss: 0.0537\n",
            "Epoch 75/100\n",
            "1313/1313 [==============================] - 3s 2ms/step - loss: 0.0440\n",
            "Epoch 76/100\n",
            "1313/1313 [==============================] - 3s 2ms/step - loss: 0.0462\n",
            "Epoch 77/100\n",
            "1313/1313 [==============================] - 3s 2ms/step - loss: 0.0516\n",
            "Epoch 78/100\n",
            "1313/1313 [==============================] - 3s 2ms/step - loss: 0.0490\n",
            "Epoch 79/100\n",
            "1313/1313 [==============================] - 3s 2ms/step - loss: 0.0494\n",
            "Epoch 80/100\n",
            "1313/1313 [==============================] - 3s 2ms/step - loss: 0.0514\n",
            "Epoch 81/100\n",
            "1313/1313 [==============================] - 3s 2ms/step - loss: 0.0460\n",
            "Epoch 82/100\n",
            "1313/1313 [==============================] - 3s 2ms/step - loss: 0.0507\n",
            "Epoch 83/100\n",
            "1313/1313 [==============================] - 3s 2ms/step - loss: 0.0483\n",
            "Epoch 84/100\n",
            "1313/1313 [==============================] - 3s 2ms/step - loss: 0.0527\n",
            "Epoch 85/100\n",
            "1313/1313 [==============================] - 3s 2ms/step - loss: 0.0436\n",
            "Epoch 86/100\n",
            "1313/1313 [==============================] - 3s 2ms/step - loss: 0.0457\n",
            "Epoch 87/100\n",
            "1313/1313 [==============================] - 3s 2ms/step - loss: 0.0483\n",
            "Epoch 88/100\n",
            "1313/1313 [==============================] - 3s 2ms/step - loss: 0.0461\n",
            "Epoch 89/100\n",
            "1313/1313 [==============================] - 3s 2ms/step - loss: 0.0491\n",
            "Epoch 90/100\n",
            "1313/1313 [==============================] - 3s 2ms/step - loss: 0.0441\n",
            "Epoch 91/100\n",
            "1313/1313 [==============================] - 3s 2ms/step - loss: 0.0470\n",
            "Epoch 92/100\n",
            "1313/1313 [==============================] - 3s 2ms/step - loss: 0.0493\n",
            "Epoch 93/100\n",
            "1313/1313 [==============================] - 3s 2ms/step - loss: 0.0527\n",
            "Epoch 94/100\n",
            "1313/1313 [==============================] - 3s 2ms/step - loss: 0.0409\n",
            "Epoch 95/100\n",
            "1313/1313 [==============================] - 3s 2ms/step - loss: 0.0424\n",
            "Epoch 96/100\n",
            "1313/1313 [==============================] - 3s 2ms/step - loss: 0.0462\n",
            "Epoch 97/100\n",
            "1313/1313 [==============================] - 3s 2ms/step - loss: 0.0422\n",
            "Epoch 98/100\n",
            "1313/1313 [==============================] - 3s 2ms/step - loss: 0.0506\n",
            "Epoch 99/100\n",
            "1313/1313 [==============================] - 3s 2ms/step - loss: 0.0442\n",
            "Epoch 100/100\n",
            "1313/1313 [==============================] - 3s 2ms/step - loss: 0.0395\n"
          ]
        }
      ]
    },
    {
      "cell_type": "markdown",
      "source": [
        "### Visualizing the loss"
      ],
      "metadata": {
        "id": "3Nl353VhbGpv"
      }
    },
    {
      "cell_type": "code",
      "source": [
        "def widgvis(fig):\n",
        "    fig.canvas.toolbar_visible = False\n",
        "    fig.canvas.header_visible = False\n",
        "    fig.canvas.footer_visible = False  \n",
        "    \n",
        "def plot_loss_tf(history):\n",
        "    fig,ax = plt.subplots(1,1, figsize = (4,3))\n",
        "    widgvis(fig)\n",
        "    ax.plot(history.history['loss'], label='loss')\n",
        "    ax.set_ylim([0, 2])\n",
        "    ax.set_xlabel('Epoch')\n",
        "    ax.set_ylabel('loss (cost)')\n",
        "    ax.legend()\n",
        "    ax.grid(True)\n",
        "    plt.show()"
      ],
      "metadata": {
        "id": "BqCebRLUYgPu"
      },
      "execution_count": 38,
      "outputs": []
    },
    {
      "cell_type": "code",
      "source": [
        "plot_loss_tf(history)"
      ],
      "metadata": {
        "colab": {
          "base_uri": "https://localhost:8080/",
          "height": 229
        },
        "id": "KnhhfS6NbFiI",
        "outputId": "8082d9e3-4b8d-4360-f65e-d5421d70b054"
      },
      "execution_count": 39,
      "outputs": [
        {
          "output_type": "display_data",
          "data": {
            "text/plain": [
              "<Figure size 288x216 with 1 Axes>"
            ],
            "image/png": "[encoded data removed]"
          },
          "metadata": {
            "needs_background": "light"
          }
        }
      ]
    },
    {
      "cell_type": "markdown",
      "source": [
        "### Making Predictions"
      ],
      "metadata": {
        "id": "Rv5fdnFnV9Mp"
      }
    },
    {
      "cell_type": "code",
      "source": [
        "def display_digit(X):\n",
        "    \"\"\" display a single digit. The input is one digit (400,). \"\"\"\n",
        "    fig, ax = plt.subplots(1,1, figsize=(0.5,0.5))\n",
        "    widgvis(fig)\n",
        "    X_reshaped = X.reshape((28,28)).T\n",
        "    # Display the image\n",
        "    ax.imshow(X_reshaped, cmap='gray')\n",
        "    plt.show()"
      ],
      "metadata": {
        "id": "IvjhelJQa888"
      },
      "execution_count": 40,
      "outputs": []
    },
    {
      "cell_type": "code",
      "source": [
        "image_of_two = X_train[1080]\n",
        "display_digit(image_of_two)\n",
        "\n",
        "prediction = model.predict(image_of_two.reshape(1,784))  # prediction\n",
        "\n",
        "print(f\" predicting a digit: \\n{prediction}\")\n",
        "print(f\" Largest Prediction index: {np.argmax(prediction)}\")"
      ],
      "metadata": {
        "colab": {
          "base_uri": "https://localhost:8080/",
          "height": 148
        },
        "id": "iOWQcmXAVKGm",
        "outputId": "2406ec8d-08c8-4490-b724-4fd9101ab0c6"
      },
      "execution_count": 41,
      "outputs": [
        {
          "output_type": "display_data",
          "data": {
            "text/plain": [
              "<Figure size 36x36 with 1 Axes>"
            ],
            "image/png": "[encoded data removed]"
          },
          "metadata": {
            "needs_background": "light"
          }
        },
        {
          "output_type": "stream",
          "name": "stdout",
          "text": [
            " predicting a digit: \n",
            "[[ 73.43919   21.886963  33.691807  68.03662   81.8294    84.00547\n",
            "  -16.512728  58.787334  67.00117   92.9894  ]]\n",
            " Largest Prediction index: 9\n"
          ]
        }
      ]
    },
    {
      "cell_type": "code",
      "source": [
        "prediction_p = tf.nn.softmax(prediction)\n",
        "print(f\" predicting a digit. Probability vector: \\n{prediction_p}\")\n",
        "print(f\" Highest probability: {np.argmax(prediction_p)}\")"
      ],
      "metadata": {
        "colab": {
          "base_uri": "https://localhost:8080/"
        },
        "id": "hvAa04edfb9A",
        "outputId": "7a33a708-8b7d-4fce-8a9d-03a12767c331"
      },
      "execution_count": 42,
      "outputs": [
        {
          "output_type": "stream",
          "name": "stdout",
          "text": [
            " predicting a digit. Probability vector: \n",
            "[[3.2314054e-09 1.3199031e-31 1.7673421e-26 1.4557404e-11 1.4230212e-05\n",
            "  1.2539121e-04 0.0000000e+00 1.4001347e-15 5.1688285e-12 9.9986041e-01]]\n",
            " Highest probability: 9\n"
          ]
        }
      ]
    },
    {
      "cell_type": "markdown",
      "source": [
        "### Testing the model"
      ],
      "metadata": {
        "id": "NVgTf_HZgjJh"
      }
    },
    {
      "cell_type": "code",
      "source": [
        "# import and prepare the testing set\n",
        "testing_set=pd.read_csv(\"/content/data/test.csv\")\n",
        "testing_set.head(5)\n"
      ],
      "metadata": {
        "colab": {
          "base_uri": "https://localhost:8080/",
          "height": 300
        },
        "id": "Cphio8vzgnxR",
        "outputId": "42385641-e7c2-48cd-885d-1a6e9972d58d"
      },
      "execution_count": 43,
      "outputs": [
        {
          "output_type": "execute_result",
          "data": {
            "text/plain": [
              "   pixel0  pixel1  pixel2  pixel3  pixel4  pixel5  pixel6  pixel7  pixel8  \\\n",
              "0       0       0       0       0       0       0       0       0       0   \n",
              "1       0       0       0       0       0       0       0       0       0   \n",
              "2       0       0       0       0       0       0       0       0       0   \n",
              "3       0       0       0       0       0       0       0       0       0   \n",
              "4       0       0       0       0       0       0       0       0       0   \n",
              "\n",
              "   pixel9  ...  pixel774  pixel775  pixel776  pixel777  pixel778  pixel779  \\\n",
              "0       0  ...         0         0         0         0         0         0   \n",
              "1       0  ...         0         0         0         0         0         0   \n",
              "2       0  ...         0         0         0         0         0         0   \n",
              "3       0  ...         0         0         0         0         0         0   \n",
              "4       0  ...         0         0         0         0         0         0   \n",
              "\n",
              "   pixel780  pixel781  pixel782  pixel783  \n",
              "0         0         0         0         0  \n",
              "1         0         0         0         0  \n",
              "2         0         0         0         0  \n",
              "3         0         0         0         0  \n",
              "4         0         0         0         0  \n",
              "\n",
              "[5 rows x 784 columns]"
            ],
            "text/html": [
              "\n",
              "  <div id=\"df-95cd7262-1ce3-4395-9361-d934f729bdf0\">\n",
              "    <div class=\"colab-df-container\">\n",
              "      <div>\n",
              "<style scoped>\n",
              "    .dataframe tbody tr th:only-of-type {\n",
              "        vertical-align: middle;\n",
              "    }\n",
              "\n",
              "    .dataframe tbody tr th {\n",
              "        vertical-align: top;\n",
              "    }\n",
              "\n",
              "    .dataframe thead th {\n",
              "        text-align: right;\n",
              "    }\n",
              "</style>\n",
              "<table border=\"1\" class=\"dataframe\">\n",
              "  <thead>\n",
              "    <tr style=\"text-align: right;\">\n",
              "      <th></th>\n",
              "      <th>pixel0</th>\n",
              "      <th>pixel1</th>\n",
              "      <th>pixel2</th>\n",
              "      <th>pixel3</th>\n",
              "      <th>pixel4</th>\n",
              "      <th>pixel5</th>\n",
              "      <th>pixel6</th>\n",
              "      <th>pixel7</th>\n",
              "      <th>pixel8</th>\n",
              "      <th>pixel9</th>\n",
              "      <th>...</th>\n",
              "      <th>pixel774</th>\n",
              "      <th>pixel775</th>\n",
              "      <th>pixel776</th>\n",
              "      <th>pixel777</th>\n",
              "      <th>pixel778</th>\n",
              "      <th>pixel779</th>\n",
              "      <th>pixel780</th>\n",
              "      <th>pixel781</th>\n",
              "      <th>pixel782</th>\n",
              "      <th>pixel783</th>\n",
              "    </tr>\n",
              "  </thead>\n",
              "  <tbody>\n",
              "    <tr>\n",
              "      <th>0</th>\n",
              "      <td>0</td>\n",
              "      <td>0</td>\n",
              "      <td>0</td>\n",
              "      <td>0</td>\n",
              "      <td>0</td>\n",
              "      <td>0</td>\n",
              "      <td>0</td>\n",
              "      <td>0</td>\n",
              "      <td>0</td>\n",
              "      <td>0</td>\n",
              "      <td>...</td>\n",
              "      <td>0</td>\n",
              "      <td>0</td>\n",
              "      <td>0</td>\n",
              "      <td>0</td>\n",
              "      <td>0</td>\n",
              "      <td>0</td>\n",
              "      <td>0</td>\n",
              "      <td>0</td>\n",
              "      <td>0</td>\n",
              "      <td>0</td>\n",
              "    </tr>\n",
              "    <tr>\n",
              "      <th>1</th>\n",
              "      <td>0</td>\n",
              "      <td>0</td>\n",
              "      <td>0</td>\n",
              "      <td>0</td>\n",
              "      <td>0</td>\n",
              "      <td>0</td>\n",
              "      <td>0</td>\n",
              "      <td>0</td>\n",
              "      <td>0</td>\n",
              "      <td>0</td>\n",
              "      <td>...</td>\n",
              "      <td>0</td>\n",
              "      <td>0</td>\n",
              "      <td>0</td>\n",
              "      <td>0</td>\n",
              "      <td>0</td>\n",
              "      <td>0</td>\n",
              "      <td>0</td>\n",
              "      <td>0</td>\n",
              "      <td>0</td>\n",
              "      <td>0</td>\n",
              "    </tr>\n",
              "    <tr>\n",
              "      <th>2</th>\n",
              "      <td>0</td>\n",
              "      <td>0</td>\n",
              "      <td>0</td>\n",
              "      <td>0</td>\n",
              "      <td>0</td>\n",
              "      <td>0</td>\n",
              "      <td>0</td>\n",
              "      <td>0</td>\n",
              "      <td>0</td>\n",
              "      <td>0</td>\n",
              "      <td>...</td>\n",
              "      <td>0</td>\n",
              "      <td>0</td>\n",
              "      <td>0</td>\n",
              "      <td>0</td>\n",
              "      <td>0</td>\n",
              "      <td>0</td>\n",
              "      <td>0</td>\n",
              "      <td>0</td>\n",
              "      <td>0</td>\n",
              "      <td>0</td>\n",
              "    </tr>\n",
              "    <tr>\n",
              "      <th>3</th>\n",
              "      <td>0</td>\n",
              "      <td>0</td>\n",
              "      <td>0</td>\n",
              "      <td>0</td>\n",
              "      <td>0</td>\n",
              "      <td>0</td>\n",
              "      <td>0</td>\n",
              "      <td>0</td>\n",
              "      <td>0</td>\n",
              "      <td>0</td>\n",
              "      <td>...</td>\n",
              "      <td>0</td>\n",
              "      <td>0</td>\n",
              "      <td>0</td>\n",
              "      <td>0</td>\n",
              "      <td>0</td>\n",
              "      <td>0</td>\n",
              "      <td>0</td>\n",
              "      <td>0</td>\n",
              "      <td>0</td>\n",
              "      <td>0</td>\n",
              "    </tr>\n",
              "    <tr>\n",
              "      <th>4</th>\n",
              "      <td>0</td>\n",
              "      <td>0</td>\n",
              "      <td>0</td>\n",
              "      <td>0</td>\n",
              "      <td>0</td>\n",
              "      <td>0</td>\n",
              "      <td>0</td>\n",
              "      <td>0</td>\n",
              "      <td>0</td>\n",
              "      <td>0</td>\n",
              "      <td>...</td>\n",
              "      <td>0</td>\n",
              "      <td>0</td>\n",
              "      <td>0</td>\n",
              "      <td>0</td>\n",
              "      <td>0</td>\n",
              "      <td>0</td>\n",
              "      <td>0</td>\n",
              "      <td>0</td>\n",
              "      <td>0</td>\n",
              "      <td>0</td>\n",
              "    </tr>\n",
              "  </tbody>\n",
              "</table>\n",
              "<p>5 rows × 784 columns</p>\n",
              "</div>\n",
              "      <button class=\"colab-df-convert\" onclick=\"convertToInteractive('df-95cd7262-1ce3-4395-9361-d934f729bdf0')\"\n",
              "              title=\"Convert this dataframe to an interactive table.\"\n",
              "              style=\"display:none;\">\n",
              "        \n",
              "  <svg xmlns=\"http://www.w3.org/2000/svg\" height=\"24px\"viewBox=\"0 0 24 24\"\n",
              "       width=\"24px\">\n",
              "    <path d=\"M0 0h24v24H0V0z\" fill=\"none\"/>\n",
              "    <path d=\"M18.56 5.44l.94 2.06.94-2.06 2.06-.94-2.06-.94-.94-2.06-.94 2.06-2.06.94zm-11 1L8.5 8.5l.94-2.06 2.06-.94-2.06-.94L8.5 2.5l-.94 2.06-2.06.94zm10 10l.94 2.06.94-2.06 2.06-.94-2.06-.94-.94-2.06-.94 2.06-2.06.94z\"/><path d=\"M17.41 7.96l-1.37-1.37c-.4-.4-.92-.59-1.43-.59-.52 0-1.04.2-1.43.59L10.3 9.45l-7.72 7.72c-.78.78-.78 2.05 0 2.83L4 21.41c.39.39.9.59 1.41.59.51 0 1.02-.2 1.41-.59l7.78-7.78 2.81-2.81c.8-.78.8-2.07 0-2.86zM5.41 20L4 18.59l7.72-7.72 1.47 1.35L5.41 20z\"/>\n",
              "  </svg>\n",
              "      </button>\n",
              "      \n",
              "  <style>\n",
              "    .colab-df-container {\n",
              "      display:flex;\n",
              "      flex-wrap:wrap;\n",
              "      gap: 12px;\n",
              "    }\n",
              "\n",
              "    .colab-df-convert {\n",
              "      background-color: #E8F0FE;\n",
              "      border: none;\n",
              "      border-radius: 50%;\n",
              "      cursor: pointer;\n",
              "      display: none;\n",
              "      fill: #1967D2;\n",
              "      height: 32px;\n",
              "      padding: 0 0 0 0;\n",
              "      width: 32px;\n",
              "    }\n",
              "\n",
              "    .colab-df-convert:hover {\n",
              "      background-color: #E2EBFA;\n",
              "      box-shadow: 0px 1px 2px rgba(60, 64, 67, 0.3), 0px 1px 3px 1px rgba(60, 64, 67, 0.15);\n",
              "      fill: #174EA6;\n",
              "    }\n",
              "\n",
              "    [theme=dark] .colab-df-convert {\n",
              "      background-color: #3B4455;\n",
              "      fill: #D2E3FC;\n",
              "    }\n",
              "\n",
              "    [theme=dark] .colab-df-convert:hover {\n",
              "      background-color: #434B5C;\n",
              "      box-shadow: 0px 1px 3px 1px rgba(0, 0, 0, 0.15);\n",
              "      filter: drop-shadow(0px 1px 2px rgba(0, 0, 0, 0.3));\n",
              "      fill: #FFFFFF;\n",
              "    }\n",
              "  </style>\n",
              "\n",
              "      <script>\n",
              "        const buttonEl =\n",
              "          document.querySelector('#df-95cd7262-1ce3-4395-9361-d934f729bdf0 button.colab-df-convert');\n",
              "        buttonEl.style.display =\n",
              "          google.colab.kernel.accessAllowed ? 'block' : 'none';\n",
              "\n",
              "        async function convertToInteractive(key) {\n",
              "          const element = document.querySelector('#df-95cd7262-1ce3-4395-9361-d934f729bdf0');\n",
              "          const dataTable =\n",
              "            await google.colab.kernel.invokeFunction('convertToInteractive',\n",
              "                                                     [key], {});\n",
              "          if (!dataTable) return;\n",
              "\n",
              "          const docLinkHtml = 'Like what you see? Visit the ' +\n",
              "            '<a target=\"_blank\" href=https://colab.research.google.com/notebooks/data_table.ipynb>data table notebook</a>'\n",
              "            + ' to learn more about interactive tables.';\n",
              "          element.innerHTML = '';\n",
              "          dataTable['output_type'] = 'display_data';\n",
              "          await google.colab.output.renderOutput(dataTable, element);\n",
              "          const docLink = document.createElement('div');\n",
              "          docLink.innerHTML = docLinkHtml;\n",
              "          element.appendChild(docLink);\n",
              "        }\n",
              "      </script>\n",
              "    </div>\n",
              "  </div>\n",
              "  "
            ]
          },
          "metadata": {},
          "execution_count": 43
        }
      ]
    },
    {
      "cell_type": "code",
      "source": [
        "X_test=testing_set.to_numpy()\n",
        "X_test.shape"
      ],
      "metadata": {
        "colab": {
          "base_uri": "https://localhost:8080/"
        },
        "id": "O8tfT6MThZj1",
        "outputId": "733cb7b6-e868-4b09-ace8-64f1577eb25d"
      },
      "execution_count": 44,
      "outputs": [
        {
          "output_type": "execute_result",
          "data": {
            "text/plain": [
              "(28000, 784)"
            ]
          },
          "metadata": {},
          "execution_count": 44
        }
      ]
    },
    {
      "cell_type": "code",
      "source": [
        "prediction = model.predict(X_test)  # prediction\n",
        "\n",
        "#print(f\" predicting a digit: \\n{prediction}\")\n",
        "y_hat=[]\n",
        "for i in range(len(prediction)):\n",
        "  y_hat.append(np.argmax(prediction[i,:]))\n",
        "print(y_hat[:10])"
      ],
      "metadata": {
        "colab": {
          "base_uri": "https://localhost:8080/"
        },
        "id": "YwI8QpGkK3Yr",
        "outputId": "bbf4b9fe-f638-4f6a-cbbe-d167f5e95bac"
      },
      "execution_count": 45,
      "outputs": [
        {
          "output_type": "stream",
          "name": "stdout",
          "text": [
            "[2, 0, 9, 2, 3, 7, 0, 3, 0, 3]\n"
          ]
        }
      ]
    },
    {
      "cell_type": "markdown",
      "source": [
        "### Preparing the submission file"
      ],
      "metadata": {
        "id": "_A614VtiMDXu"
      }
    },
    {
      "cell_type": "code",
      "source": [
        "sub=pd.read_csv(\"/content/data/sample_submission.csv\")\n",
        "Id=sub[\"ImageId\"].to_numpy()\n",
        "submission=pd.DataFrame({\"ImageId\":Id,\"Label\":y_hat})\n",
        "submission\n"
      ],
      "metadata": {
        "colab": {
          "base_uri": "https://localhost:8080/",
          "height": 424
        },
        "id": "oOJdj9Q5MInQ",
        "outputId": "3f2a415e-8761-4aef-ac50-3eb2913d20cd"
      },
      "execution_count": 46,
      "outputs": [
        {
          "output_type": "execute_result",
          "data": {
            "text/plain": [
              "       ImageId  Label\n",
              "0            1      2\n",
              "1            2      0\n",
              "2            3      9\n",
              "3            4      2\n",
              "4            5      3\n",
              "...        ...    ...\n",
              "27995    27996      9\n",
              "27996    27997      7\n",
              "27997    27998      3\n",
              "27998    27999      9\n",
              "27999    28000      2\n",
              "\n",
              "[28000 rows x 2 columns]"
            ],
            "text/html": [
              "\n",
              "  <div id=\"df-42ba39f3-765d-4698-90be-f6d47a669a2b\">\n",
              "    <div class=\"colab-df-container\">\n",
              "      <div>\n",
              "<style scoped>\n",
              "    .dataframe tbody tr th:only-of-type {\n",
              "        vertical-align: middle;\n",
              "    }\n",
              "\n",
              "    .dataframe tbody tr th {\n",
              "        vertical-align: top;\n",
              "    }\n",
              "\n",
              "    .dataframe thead th {\n",
              "        text-align: right;\n",
              "    }\n",
              "</style>\n",
              "<table border=\"1\" class=\"dataframe\">\n",
              "  <thead>\n",
              "    <tr style=\"text-align: right;\">\n",
              "      <th></th>\n",
              "      <th>ImageId</th>\n",
              "      <th>Label</th>\n",
              "    </tr>\n",
              "  </thead>\n",
              "  <tbody>\n",
              "    <tr>\n",
              "      <th>0</th>\n",
              "      <td>1</td>\n",
              "      <td>2</td>\n",
              "    </tr>\n",
              "    <tr>\n",
              "      <th>1</th>\n",
              "      <td>2</td>\n",
              "      <td>0</td>\n",
              "    </tr>\n",
              "    <tr>\n",
              "      <th>2</th>\n",
              "      <td>3</td>\n",
              "      <td>9</td>\n",
              "    </tr>\n",
              "    <tr>\n",
              "      <th>3</th>\n",
              "      <td>4</td>\n",
              "      <td>2</td>\n",
              "    </tr>\n",
              "    <tr>\n",
              "      <th>4</th>\n",
              "      <td>5</td>\n",
              "      <td>3</td>\n",
              "    </tr>\n",
              "    <tr>\n",
              "      <th>...</th>\n",
              "      <td>...</td>\n",
              "      <td>...</td>\n",
              "    </tr>\n",
              "    <tr>\n",
              "      <th>27995</th>\n",
              "      <td>27996</td>\n",
              "      <td>9</td>\n",
              "    </tr>\n",
              "    <tr>\n",
              "      <th>27996</th>\n",
              "      <td>27997</td>\n",
              "      <td>7</td>\n",
              "    </tr>\n",
              "    <tr>\n",
              "      <th>27997</th>\n",
              "      <td>27998</td>\n",
              "      <td>3</td>\n",
              "    </tr>\n",
              "    <tr>\n",
              "      <th>27998</th>\n",
              "      <td>27999</td>\n",
              "      <td>9</td>\n",
              "    </tr>\n",
              "    <tr>\n",
              "      <th>27999</th>\n",
              "      <td>28000</td>\n",
              "      <td>2</td>\n",
              "    </tr>\n",
              "  </tbody>\n",
              "</table>\n",
              "<p>28000 rows × 2 columns</p>\n",
              "</div>\n",
              "      <button class=\"colab-df-convert\" onclick=\"convertToInteractive('df-42ba39f3-765d-4698-90be-f6d47a669a2b')\"\n",
              "              title=\"Convert this dataframe to an interactive table.\"\n",
              "              style=\"display:none;\">\n",
              "        \n",
              "  <svg xmlns=\"http://www.w3.org/2000/svg\" height=\"24px\"viewBox=\"0 0 24 24\"\n",
              "       width=\"24px\">\n",
              "    <path d=\"M0 0h24v24H0V0z\" fill=\"none\"/>\n",
              "    <path d=\"M18.56 5.44l.94 2.06.94-2.06 2.06-.94-2.06-.94-.94-2.06-.94 2.06-2.06.94zm-11 1L8.5 8.5l.94-2.06 2.06-.94-2.06-.94L8.5 2.5l-.94 2.06-2.06.94zm10 10l.94 2.06.94-2.06 2.06-.94-2.06-.94-.94-2.06-.94 2.06-2.06.94z\"/><path d=\"M17.41 7.96l-1.37-1.37c-.4-.4-.92-.59-1.43-.59-.52 0-1.04.2-1.43.59L10.3 9.45l-7.72 7.72c-.78.78-.78 2.05 0 2.83L4 21.41c.39.39.9.59 1.41.59.51 0 1.02-.2 1.41-.59l7.78-7.78 2.81-2.81c.8-.78.8-2.07 0-2.86zM5.41 20L4 18.59l7.72-7.72 1.47 1.35L5.41 20z\"/>\n",
              "  </svg>\n",
              "      </button>\n",
              "      \n",
              "  <style>\n",
              "    .colab-df-container {\n",
              "      display:flex;\n",
              "      flex-wrap:wrap;\n",
              "      gap: 12px;\n",
              "    }\n",
              "\n",
              "    .colab-df-convert {\n",
              "      background-color: #E8F0FE;\n",
              "      border: none;\n",
              "      border-radius: 50%;\n",
              "      cursor: pointer;\n",
              "      display: none;\n",
              "      fill: #1967D2;\n",
              "      height: 32px;\n",
              "      padding: 0 0 0 0;\n",
              "      width: 32px;\n",
              "    }\n",
              "\n",
              "    .colab-df-convert:hover {\n",
              "      background-color: #E2EBFA;\n",
              "      box-shadow: 0px 1px 2px rgba(60, 64, 67, 0.3), 0px 1px 3px 1px rgba(60, 64, 67, 0.15);\n",
              "      fill: #174EA6;\n",
              "    }\n",
              "\n",
              "    [theme=dark] .colab-df-convert {\n",
              "      background-color: #3B4455;\n",
              "      fill: #D2E3FC;\n",
              "    }\n",
              "\n",
              "    [theme=dark] .colab-df-convert:hover {\n",
              "      background-color: #434B5C;\n",
              "      box-shadow: 0px 1px 3px 1px rgba(0, 0, 0, 0.15);\n",
              "      filter: drop-shadow(0px 1px 2px rgba(0, 0, 0, 0.3));\n",
              "      fill: #FFFFFF;\n",
              "    }\n",
              "  </style>\n",
              "\n",
              "      <script>\n",
              "        const buttonEl =\n",
              "          document.querySelector('#df-42ba39f3-765d-4698-90be-f6d47a669a2b button.colab-df-convert');\n",
              "        buttonEl.style.display =\n",
              "          google.colab.kernel.accessAllowed ? 'block' : 'none';\n",
              "\n",
              "        async function convertToInteractive(key) {\n",
              "          const element = document.querySelector('#df-42ba39f3-765d-4698-90be-f6d47a669a2b');\n",
              "          const dataTable =\n",
              "            await google.colab.kernel.invokeFunction('convertToInteractive',\n",
              "                                                     [key], {});\n",
              "          if (!dataTable) return;\n",
              "\n",
              "          const docLinkHtml = 'Like what you see? Visit the ' +\n",
              "            '<a target=\"_blank\" href=https://colab.research.google.com/notebooks/data_table.ipynb>data table notebook</a>'\n",
              "            + ' to learn more about interactive tables.';\n",
              "          element.innerHTML = '';\n",
              "          dataTable['output_type'] = 'display_data';\n",
              "          await google.colab.output.renderOutput(dataTable, element);\n",
              "          const docLink = document.createElement('div');\n",
              "          docLink.innerHTML = docLinkHtml;\n",
              "          element.appendChild(docLink);\n",
              "        }\n",
              "      </script>\n",
              "    </div>\n",
              "  </div>\n",
              "  "
            ]
          },
          "metadata": {},
          "execution_count": 46
        }
      ]
    },
    {
      "cell_type": "code",
      "source": [
        "submission.to_csv(\"submission.csv\")"
      ],
      "metadata": {
        "id": "u3FTvlOiQoSO"
      },
      "execution_count": 47,
      "outputs": []
    }
  ]
}